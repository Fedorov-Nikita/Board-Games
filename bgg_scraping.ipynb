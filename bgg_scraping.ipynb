{
 "cells": [
  {
   "cell_type": "markdown",
   "id": "88d2ff74",
   "metadata": {},
   "source": [
    "# Board games scraping"
   ]
  },
  {
   "cell_type": "code",
   "execution_count": null,
   "id": "ca49841f",
   "metadata": {},
   "outputs": [],
   "source": [
    "import requests as re\n",
    "from bs4 import BeautifulSoup\n",
    "import pandas as pd\n",
    "import json\n",
    "from datetime import datetime\n",
    "import time\n",
    "from tqdm.notebook import tqdm_notebook"
   ]
  },
  {
   "cell_type": "code",
   "execution_count": null,
   "id": "3bef5f46",
   "metadata": {},
   "outputs": [],
   "source": [
    "def bgg_top(n_pages=20, start_page=1):\n",
    "    '''\n",
    "    On this script you can get list of top board games from boardgamegeek.com\n",
    "    -----\n",
    "    Paramrters\n",
    "    -----\n",
    "    n_pages: how many pages you searh, default - 20, because without sighning in on boardgamegeek.com you can load only first 20 pages\n",
    "    start_page: from this page we start scrapping, default - 1.\n",
    "    '''\n",
    "    url_main = 'https://boardgamegeek.com'\n",
    "    url_searh_boardgames = url_main + '/browse/boardgame'\n",
    "    url_page = '/page/'\n",
    "    # n_pages = 20\n",
    "    game_top_list = pd.DataFrame()\n",
    "    for i in range(n_pages):\n",
    "        r = re.get(url_searh_boardgames + url_page + str(start_page+i))\n",
    "        soup = BeautifulSoup(r.text)\n",
    "        rows = soup.find_all('tr', id='row_')\n",
    "        for j, row in enumerate(rows):\n",
    "            rank = row.find('td', class_='collection_rank').find('a').get('name')\n",
    "            gameinfo = row.find('div', id='results_objectname'+str(j+1))\n",
    "            title = gameinfo.find('a').text\n",
    "            try:\n",
    "                year = gameinfo.find('span').text\n",
    "            except:\n",
    "                year = ''\n",
    "            try:\n",
    "                description = row.find('p', class_='smallefont dull').text.strip()\n",
    "            except:\n",
    "                description = ''\n",
    "            link = url_main + gameinfo.find('a').get('href')\n",
    "            game_id = str(gameinfo.find('a').get('href'))[len('/boardgame/'):]\n",
    "            game_id = game_id[:game_id.find('/')]\n",
    "            ratings = row.find_all('td', class_='collection_bggrating')\n",
    "            rat_list = []\n",
    "            for i in ratings:\n",
    "                rat_list.append(i.text.strip())\n",
    "            geek_rating = rat_list[0]\n",
    "            avg_rating = rat_list[1]\n",
    "            num_votes = rat_list[2]\n",
    "\n",
    "            game = {'rank': rank, 'title': title, 'game_id':game_id, 'description':description, 'year':year, 'link': link, \n",
    "                    'geek_rating':geek_rating, 'avg_rating':avg_rating, 'num_votes':num_votes}\n",
    "            game_top_list = pd.concat([game_top_list, pd.DataFrame([game])])\n",
    "\n",
    "    return game_top_list"
   ]
  },
  {
   "cell_type": "code",
   "execution_count": null,
   "id": "ff3cfe34",
   "metadata": {},
   "outputs": [],
   "source": [
    "def get_bgg_categories():\n",
    "    category_list = pd.DataFrame()\n",
    "    url_main = 'https://boardgamegeek.com'\n",
    "    url_cat = 'https://boardgamegeek.com/browse/boardgamecategory'\n",
    "    r = re.get(url_cat)\n",
    "    soup = BeautifulSoup(r.text)\n",
    "    table = soup.find('table', class_='forum_table')\n",
    "    rows = table.find_all('a')\n",
    "    for row in rows:\n",
    "        link = url_main + row.get('href')\n",
    "        category = row.text\n",
    "        cat = {'category':category, 'link':link}\n",
    "        category_list = pd.concat([category_list, pd.DataFrame([cat])])\n",
    "    return category_list"
   ]
  }
 ],
 "metadata": {
  "kernelspec": {
   "display_name": "Python 3 (ipykernel)",
   "language": "python",
   "name": "python3"
  },
  "language_info": {
   "codemirror_mode": {
    "name": "ipython",
    "version": 3
   },
   "file_extension": ".py",
   "mimetype": "text/x-python",
   "name": "python",
   "nbconvert_exporter": "python",
   "pygments_lexer": "ipython3",
   "version": "3.10.6"
  }
 },
 "nbformat": 4,
 "nbformat_minor": 5
}
