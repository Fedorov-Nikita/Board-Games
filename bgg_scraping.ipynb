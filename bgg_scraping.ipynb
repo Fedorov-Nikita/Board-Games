{
 "cells": [
  {
   "cell_type": "markdown",
   "id": "54200c0c",
   "metadata": {},
   "source": [
    "# Board games scraping"
   ]
  },
  {
   "cell_type": "code",
   "execution_count": null,
   "id": "5ba6a4a1",
   "metadata": {},
   "outputs": [],
   "source": [
    "import requests as re\n",
    "from bs4 import BeautifulSoup\n",
    "import pandas as pd\n",
    "import json\n",
    "from datetime import datetime\n",
    "import time\n",
    "from tqdm.notebook import tqdm_notebook"
   ]
  }
 ],
 "metadata": {
  "kernelspec": {
   "display_name": "Python 3 (ipykernel)",
   "language": "python",
   "name": "python3"
  },
  "language_info": {
   "codemirror_mode": {
    "name": "ipython",
    "version": 3
   },
   "file_extension": ".py",
   "mimetype": "text/x-python",
   "name": "python",
   "nbconvert_exporter": "python",
   "pygments_lexer": "ipython3",
   "version": "3.10.6"
  }
 },
 "nbformat": 4,
 "nbformat_minor": 5
}
