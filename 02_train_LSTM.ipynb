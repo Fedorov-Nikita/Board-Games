{
  "cells": [
    {
      "cell_type": "markdown",
      "metadata": {
        "id": "cc6be4fc"
      },
      "source": [
        "# Import libs and setup"
      ],
      "id": "cc6be4fc"
    },
    {
      "cell_type": "code",
      "execution_count": 1,
      "metadata": {
        "colab": {
          "base_uri": "https://localhost:8080/"
        },
        "id": "QxUmoBGtUHkI",
        "outputId": "2313ae3e-a8c7-4de5-bf14-021104be6a92"
      },
      "outputs": [
        {
          "output_type": "stream",
          "name": "stdout",
          "text": [
            "Mounted at /content/drive\n"
          ]
        }
      ],
      "source": [
        "from google.colab import drive\n",
        "drive.mount('/content/drive')"
      ],
      "id": "QxUmoBGtUHkI"
    },
    {
      "cell_type": "code",
      "execution_count": 4,
      "metadata": {
        "colab": {
          "base_uri": "https://localhost:8080/"
        },
        "id": "J8-Vc7FybDP_",
        "outputId": "579ad0af-d6bb-4b2b-a380-f63af56a37d0"
      },
      "outputs": [
        {
          "output_type": "stream",
          "name": "stdout",
          "text": [
            "model_0ep.pt   model_20ep.pt  model_35ep.pt  model_50ep.pt\n",
            "model_10ep.pt  model_25ep.pt  model_40ep.pt  model_5ep.pt\n",
            "model_15ep.pt  model_30ep.pt  model_45ep.pt\n"
          ]
        }
      ],
      "source": [
        "!ls './drive/MyDrive/DS-Education/17-Diploma/PyTorch_models/LSTM_v1'"
      ],
      "id": "J8-Vc7FybDP_"
    },
    {
      "cell_type": "code",
      "execution_count": 5,
      "metadata": {
        "id": "eebab5fe"
      },
      "outputs": [],
      "source": [
        "import requests as re\n",
        "from bs4 import BeautifulSoup\n",
        "import sqlite3\n",
        "from datetime import date\n",
        "from datetime import datetime\n",
        "\n",
        "import pandas as pd\n",
        "import numpy as np\n",
        "import matplotlib.pyplot as plt\n",
        "\n",
        "from sklearn.model_selection import train_test_split\n",
        "from sklearn.metrics import ndcg_score\n",
        "\n",
        "import torch\n",
        "from torch.utils.data import Dataset, DataLoader\n",
        "import torch.nn as nn\n",
        "import torch.nn.functional as F\n",
        "\n",
        "import time\n",
        "from tqdm.notebook import tqdm\n",
        "\n",
        "class CFG:\n",
        "    PATH_TO_DB = './data/board_games.sqlite'\n",
        "    PATH_FOR_TMP_BG_FILES = './data/scraped/bgg_boardgame_tmp'\n",
        "    PATH_FOR_TMP_USER_FILES = './data/scraped/bgg_user_tmp'\n",
        "    PATH_TO_SAVE_USER_FILES = './data/scraped/bgg_user'\n",
        "    PATH_TO_TMP_FILES = './data/scraped/tmp'\n",
        "    PATH_FOR_MODEL = './model.pt'\n",
        "\n",
        "    GDRIVE = True\n",
        "    PATH_GDRIVE_MAIN = './drive/MyDrive/DS-Education/17-Diploma'\n",
        "\n",
        "    # Model train parameters\n",
        "    BATCH_SIZE = 256\n",
        "    SHUFFLE_TRAIN_DATASET = True\n",
        "    TRAIN_EPOCHS = 100\n",
        "    LEARNING_RATE = 3e-4\n",
        "\n",
        "    # Main torch parameters\n",
        "    USE_GPU = torch.cuda.is_available()\n",
        "    DEVICE = 'cuda' if torch.cuda.is_available() else 'cpu'\n",
        "\n",
        "    # Metrics parameters\n",
        "    K = 10"
      ],
      "id": "eebab5fe"
    },
    {
      "cell_type": "markdown",
      "metadata": {
        "id": "b6c0bac7"
      },
      "source": [
        "# Metrics\n",
        "В работе для более полной оценки результатов и сравнения моделей будем использовать несколько метрик использующихся для оценки поисковых и ранжирующих систем, поэтому мы и будем использовать их для оценки рекомендательной системы:\n",
        "MAP@k, NDCG@k и MRR@k"
      ],
      "id": "b6c0bac7"
    },
    {
      "cell_type": "markdown",
      "metadata": {
        "id": "b21a8165"
      },
      "source": [
        "У нас будет 1 ответ для рекомендаций пользователей, поэтому напишем свою реализацию NDCG, которая будет работать с нашим выходои модели. Так как правильный ответ один, то IDCG всегда будет равен 1."
      ],
      "id": "b21a8165"
    },
    {
      "cell_type": "code",
      "execution_count": 6,
      "metadata": {
        "colab": {
          "base_uri": "https://localhost:8080/"
        },
        "id": "a302dc45",
        "outputId": "35c009e1-6cd7-4bf0-ab40-c2e5ca4fb8bc"
      },
      "outputs": [
        {
          "output_type": "execute_result",
          "data": {
            "text/plain": [
              "0.5327324383928644"
            ]
          },
          "metadata": {},
          "execution_count": 6
        }
      ],
      "source": [
        "def DCG_score(true, pred, k):\n",
        "    '''\n",
        "    Return: np.array of DCG@k for each sample in batch.\n",
        "    -----\n",
        "    Pred: np.array - array of predicted games' ids\n",
        "    True: np.array - array of real next game in seq\n",
        "    k: int - only consider the highest k scores in the ranking\n",
        "    '''\n",
        "    if k > 0:\n",
        "        pred = pred[:,:k]\n",
        "\n",
        "    result_possition = np.where(pred == true)[1] + 1 # rank starts from 1\n",
        "    DCG = 1/np.log2(result_possition + 1)\n",
        "    if len(true)!= len(DCG):\n",
        "        for i in range(len(true) - len(DCG)):\n",
        "            DCG = np.concatenate((DCG, [0.]))\n",
        "    return DCG\n",
        "\n",
        "def NDCG_score(true, pred, k=5): # NDCG = DCG/IDCG, but IDCG = 1\n",
        "    '''\n",
        "    Return: NDCG@k for batch\n",
        "    -----\n",
        "    Pred: np.array - array of predicted games' ids\n",
        "    True: np.array - array of real next game in seq\n",
        "    '''\n",
        "\n",
        "    return np.mean(DCG_score(true, pred, k=k))\n",
        "\n",
        "NDCG_score(np.array(([4],[5],[6],[7])),\n",
        "    np.array(([1,2,4,5,1,2], [1,5,3,4,2,7], [6,4,1,8,5,3], [1,2,3,4,8,7])), k=5)"
      ],
      "id": "a302dc45"
    },
    {
      "cell_type": "markdown",
      "metadata": {
        "id": "5694696a"
      },
      "source": [
        "MAP также будет рассчитываться исходя из того, что у нас только 1 правильный ответ"
      ],
      "id": "5694696a"
    },
    {
      "cell_type": "code",
      "execution_count": 7,
      "metadata": {
        "colab": {
          "base_uri": "https://localhost:8080/"
        },
        "id": "e534a8cc",
        "outputId": "51d0944a-a654-4376-c68c-d50ddc82179a"
      },
      "outputs": [
        {
          "output_type": "execute_result",
          "data": {
            "text/plain": [
              "0.4583333333333333"
            ]
          },
          "metadata": {},
          "execution_count": 7
        }
      ],
      "source": [
        "def ap(true, pred, k):\n",
        "    '''\n",
        "    Return: np.array of APs@k for each sample in batch.\n",
        "    -----\n",
        "    Pred: np.array - array of predicted games' ids\n",
        "    True: np.array - array of real next game in seq\n",
        "    '''\n",
        "    if k > 0:\n",
        "        pred = pred[:,:k]\n",
        "\n",
        "#     for i, yp_item in enumerate(y_pred):\n",
        "\n",
        "#     k = i+1 # our rank starts at 1\n",
        "#     correct_predictions = 0\n",
        "#     running_sum = 0\n",
        "\n",
        "#     if yp_item in y_true:\n",
        "#         correct_predictions += 1\n",
        "#         running_sum += correct_predictions/k\n",
        "    APs = 1 / (np.where(pred == true)[1] + 1)\n",
        "    if len(true) != len(APs):\n",
        "        for i in range(len(true) - len(APs)):\n",
        "            APs = np.concatenate((APs, [0.]))\n",
        "    return APs\n",
        "\n",
        "def MAP_score(true, pred, k=5):\n",
        "    '''\n",
        "    Return: MAP@k for batch\n",
        "    -----\n",
        "    Pred: np.array - array of predicted games' ids\n",
        "    True: np.array - array of real next game in seq\n",
        "    '''\n",
        "    return np.mean(ap(true, pred, k=k))\n",
        "\n",
        "MAP_score(np.array(([4],[5],[6],[7])),\n",
        "    np.array(([1,2,4,5,1,2], [1,5,3,4,2,7], [6,4,1,8,5,3], [1,2,3,4,8,7])), k=5)"
      ],
      "id": "e534a8cc"
    },
    {
      "cell_type": "markdown",
      "metadata": {
        "id": "7c267c98"
      },
      "source": [
        "# Load dataset and create dataloader"
      ],
      "id": "7c267c98"
    },
    {
      "cell_type": "code",
      "execution_count": 8,
      "metadata": {
        "colab": {
          "base_uri": "https://localhost:8080/"
        },
        "id": "6c288da7",
        "outputId": "aedde4ec-fd5e-4127-fef5-f966efcfba9a"
      },
      "outputs": [
        {
          "output_type": "execute_result",
          "data": {
            "text/plain": [
              "<function BufferedReader.close>"
            ]
          },
          "metadata": {},
          "execution_count": 8
        }
      ],
      "source": [
        "if CFG.GDRIVE:\n",
        "    file = open(CFG.PATH_GDRIVE_MAIN + \"/games_seq.np\", \"rb\")\n",
        "else:\n",
        "    file = open(\"./data/games_seq.np\", \"rb\")\n",
        "games_arr = np.load(file)\n",
        "file.close\n",
        "\n",
        "if CFG.GDRIVE:\n",
        "    file = open(CFG.PATH_GDRIVE_MAIN + \"/scores_seq.np\", \"rb\")\n",
        "else:\n",
        "    file = open(\"./data/scores_seq.np\", \"rb\")\n",
        "scores_arr = np.load(file)\n",
        "file.close"
      ],
      "id": "6c288da7"
    },
    {
      "cell_type": "code",
      "execution_count": 9,
      "metadata": {
        "id": "b8ab0527"
      },
      "outputs": [],
      "source": [
        "class GamesSeqDataset(Dataset):\n",
        "\n",
        "    def __init__(self, ids, scores):\n",
        "        self.ids = torch.IntTensor(ids)\n",
        "        self.scores = torch.from_numpy(scores).float()\n",
        "\n",
        "    def __len__(self):\n",
        "        return self.ids.shape[0]\n",
        "\n",
        "    def __getitem__(self, index):\n",
        "        return (self.ids[index], self.scores[index])"
      ],
      "id": "b8ab0527"
    },
    {
      "cell_type": "code",
      "execution_count": 10,
      "metadata": {
        "colab": {
          "base_uri": "https://localhost:8080/"
        },
        "id": "053d9967",
        "outputId": "76db22de-373a-4274-a88a-dd8dcba17755"
      },
      "outputs": [
        {
          "output_type": "execute_result",
          "data": {
            "text/plain": [
              "(4993508, 2140076)"
            ]
          },
          "metadata": {},
          "execution_count": 10
        }
      ],
      "source": [
        "g_train, g_test, s_train, s_test = train_test_split(games_arr, scores_arr, test_size=0.3, random_state=42)\n",
        "len(g_train), len(g_test)"
      ],
      "id": "053d9967"
    },
    {
      "cell_type": "code",
      "execution_count": 11,
      "metadata": {
        "id": "8041ed5b"
      },
      "outputs": [],
      "source": [
        "train_dataset = GamesSeqDataset(g_train, s_train)\n",
        "val_dataset = GamesSeqDataset(g_test, s_test)\n",
        "\n",
        "train_loader = DataLoader(train_dataset, batch_size=CFG.BATCH_SIZE, shuffle=CFG.SHUFFLE_TRAIN_DATASET)\n",
        "val_loader = DataLoader(val_dataset, batch_size=CFG.BATCH_SIZE, shuffle=False)"
      ],
      "id": "8041ed5b"
    },
    {
      "cell_type": "code",
      "execution_count": 12,
      "metadata": {
        "colab": {
          "base_uri": "https://localhost:8080/"
        },
        "id": "08b399f4",
        "outputId": "bdd8eb63-64da-4bec-f9e9-f00837a51c88"
      },
      "outputs": [
        {
          "output_type": "stream",
          "name": "stdout",
          "text": [
            "tensor([[173442, 119866, 200247,  ...,  38928,   2251,   3597],\n",
            "        [ 29934,  28720,  30380,  ...,  43015,  15987,    240],\n",
            "        [ 12942, 161936, 146508,  ...,  28023, 125618, 176558],\n",
            "        ...,\n",
            "        [166384, 143884, 101721,  ..., 239840, 245638, 249703],\n",
            "        [ 59753, 141736,  40692,  ..., 191977, 102794, 192291],\n",
            "        [256788, 291457, 293678,  ..., 262543,  66588, 273477]],\n",
            "       dtype=torch.int32) tensor([[ 0.2500, -0.7500, -0.7500,  ...,  1.2500,  0.2500, -0.7500],\n",
            "        [-0.0143,  0.4857, -0.0143,  ..., -0.0143, -0.5143,  0.4857],\n",
            "        [-0.6809,  0.3191,  0.3191,  ..., -0.6809, -0.6809, -0.6809],\n",
            "        ...,\n",
            "        [ 0.5681, -0.7319, -0.7319,  ..., -1.0319, -0.8319, -0.3319],\n",
            "        [-0.6667,  0.3333,  1.3333,  ...,  0.3333,  0.3333, -0.6667],\n",
            "        [ 0.8085,  1.3085, -0.6915,  ..., -1.1915, -0.6915, -0.6915]])\n"
          ]
        }
      ],
      "source": [
        "for g, s in train_loader:\n",
        "    print(g, s)\n",
        "    break"
      ],
      "id": "08b399f4"
    },
    {
      "cell_type": "markdown",
      "metadata": {
        "id": "eec6d7a7"
      },
      "source": [
        "# Create model\n",
        "Мы будем использовать структуру основанную на [LSTM](https://pytorch.org/docs/stable/generated/torch.nn.LSTM.html#lstm) и линейных слоях, в качестве лосса будем использовать косунусную близость ([COSINEEMBEDDINGLOSS](https://pytorch.org/docs/stable/generated/torch.nn.CosineEmbeddingLoss.html#cosineembeddingloss))."
      ],
      "id": "eec6d7a7"
    },
    {
      "cell_type": "code",
      "execution_count": 13,
      "metadata": {
        "colab": {
          "base_uri": "https://localhost:8080/"
        },
        "id": "1d647437",
        "outputId": "5c010c8a-56e6-45da-c52b-db9cd5380b41"
      },
      "outputs": [
        {
          "output_type": "execute_result",
          "data": {
            "text/plain": [
              "72344"
            ]
          },
          "metadata": {},
          "execution_count": 13
        }
      ],
      "source": [
        "all_ids = list(set(games_arr.reshape(-1)))\n",
        "len(all_ids)"
      ],
      "id": "1d647437"
    },
    {
      "cell_type": "code",
      "execution_count": 14,
      "metadata": {
        "colab": {
          "base_uri": "https://localhost:8080/"
        },
        "id": "beddf242",
        "outputId": "228f32dd-72da-4f52-b2ab-6b8cd1970df3"
      },
      "outputs": [
        {
          "output_type": "execute_result",
          "data": {
            "text/plain": [
              "(1, 385643)"
            ]
          },
          "metadata": {},
          "execution_count": 14
        }
      ],
      "source": [
        "min(all_ids), max(all_ids)"
      ],
      "id": "beddf242"
    },
    {
      "cell_type": "markdown",
      "metadata": {
        "id": "1edbf8d9"
      },
      "source": [
        "Будем использовать значения id так, как они еспользуются в базе, так как впоследствие при дообучении можно будет дообучать модель на последовательностях с отсутствующими в текущий момент играми, поэтому с запасом выделим 400 000 id для эмбеддингов, а из результатов будем исключать отсутствующие в обучающей выборке игры с помощью списка all_ids."
      ],
      "id": "1edbf8d9"
    },
    {
      "cell_type": "code",
      "execution_count": 15,
      "metadata": {
        "id": "8372824b"
      },
      "outputs": [],
      "source": [
        "class RecSysLSTM(nn.Module):\n",
        "    def __init__(self, num_items, actual_ids, embedding_dim=16, hidden_dim=64, ):\n",
        "        super(RecSysLSTM, self).__init__()\n",
        "        self.item_embed = nn.Embedding(num_items, embedding_dim)\n",
        "        self.lstm = nn.LSTM(embedding_dim+1, hidden_dim, batch_first=True)\n",
        "        self.linear = nn.Linear(hidden_dim, embedding_dim)\n",
        "        self.linear_for_answer = nn.Linear(embedding_dim, embedding_dim)\n",
        "        self.actual_ids = actual_ids\n",
        "\n",
        "    def result_inference(self, result):\n",
        "        result = self.item_embed(result)\n",
        "        result = F.relu(self.linear_for_answer(result))\n",
        "        result = F.relu(self.linear_for_answer(result))\n",
        "        return result\n",
        "\n",
        "    def forward(self, item_seq, score_seq, result=None):\n",
        "        item_embeds = self.item_embed(item_seq)\n",
        "        item_embeds = torch.cat([item_embeds, score_seq.reshape(item_seq.shape[0], item_seq.shape[1], -1)], dim=2)\n",
        "#         print('item_embeds', item_embeds.shape, 'score_seq', score_seq.shape)\n",
        "\n",
        "        lstm_out, _ = self.lstm(item_embeds.view(item_seq.shape[0], item_seq.shape[1], -1))\n",
        "        output = F.relu(self.linear(lstm_out))[:,-1,:]\n",
        "\n",
        "        if not result is None:\n",
        "            result = self.result_inference(result)\n",
        "#             print('output', output.shape, 'result', result.shape)\n",
        "            return output, result\n",
        "\n",
        "        return output\n"
      ],
      "id": "8372824b"
    },
    {
      "cell_type": "code",
      "execution_count": 16,
      "metadata": {
        "id": "8d42a4ee"
      },
      "outputs": [],
      "source": [
        "model = RecSysLSTM(num_items=400000, actual_ids=all_ids)"
      ],
      "id": "8d42a4ee"
    },
    {
      "cell_type": "code",
      "execution_count": 17,
      "metadata": {
        "id": "9a027647"
      },
      "outputs": [],
      "source": [
        "o, r = model(g[:,:-1], s[:,:-1], g[:,-1])"
      ],
      "id": "9a027647"
    },
    {
      "cell_type": "markdown",
      "metadata": {
        "id": "25b38b5b"
      },
      "source": [
        "# Create train function"
      ],
      "id": "25b38b5b"
    },
    {
      "cell_type": "markdown",
      "metadata": {
        "id": "ac32f6f2"
      },
      "source": [
        "Для оценки метрик надо в процессе обучения сравнивать со всеми инференсами, поэтому логично для экономия времени вычислений делать это по окончании какой-либо эпохи, получив векторы для всех игр один раз на инференсе и сравнив их с выходами модели после LSTM для каждой последовательности, чтобы получить ранжирование всех результатов после эпохи. Так как это довольно долгий процесс будем делать это после каждой 5й эпохи."
      ],
      "id": "ac32f6f2"
    },
    {
      "cell_type": "code",
      "execution_count": 32,
      "metadata": {
        "id": "fd303ceb"
      },
      "outputs": [],
      "source": [
        "def validate_model(all_ids, model, train_loader, test_loader, k=CFG.K, break_=None):\n",
        "    \"\"\"\n",
        "    Function for validate model\n",
        "    \"\"\"\n",
        "    model.eval()\n",
        "\n",
        "    # create tensor for all_ids\n",
        "    all_ids_tensor = torch.IntTensor(all_ids).to(CFG.DEVICE)\n",
        "\n",
        "    #\n",
        "    all_ids_predictions = model.result_inference(all_ids_tensor).unsqueeze(0) # shape (n_games, 1, embedding_dim)\n",
        "\n",
        "    ndsg_k = 0.\n",
        "    map_k = 0.\n",
        "    iter_counter = 0\n",
        "\n",
        "    # iterate in train_loader\n",
        "    for games, scores in tqdm(train_loader):\n",
        "        games = games.to(CFG.DEVICE)\n",
        "        scores = scores.to(CFG.DEVICE)\n",
        "        # calculate cosine similarity between batch and all games (shape=(n_games, batch_size))\n",
        "        cosine_similarity_tensor = F.cosine_similarity(all_ids_predictions,\n",
        "                                                       model(games[:,:-1], scores[:,:-1]).unsqueeze(1),\n",
        "                                                       dim=2)\n",
        "\n",
        "        # get topk ids for each output in batch (shape=(batch_size, k))\n",
        "        batch_topk_ids = all_ids_tensor[torch.topk(cosine_similarity_tensor, k=k, dim=1).indices]\n",
        "\n",
        "        ndsg_k += NDCG_score(games[:,-1:].cpu(), batch_topk_ids.cpu(), k=CFG.K)\n",
        "        map_k += MAP_score(games[:,-1:].cpu(), batch_topk_ids.cpu(), k=CFG.K)\n",
        "        iter_counter += 1\n",
        "#         print(f'Iteration {iter_counter}')\n",
        "        if iter_counter == break_:\n",
        "            break\n",
        "\n",
        "    ndsg_k_train = ndsg_k / iter_counter\n",
        "    map_k_train = map_k / iter_counter\n",
        "\n",
        "    # reset constants for validation test data\n",
        "    ndsg_k = 0.\n",
        "    map_k = 0.\n",
        "    iter_counter = 0\n",
        "\n",
        "    # iterate in test_loader\n",
        "    for games, scores in tqdm(test_loader):\n",
        "        games = games.to(CFG.DEVICE)\n",
        "        scores = scores.to(CFG.DEVICE)\n",
        "\n",
        "        # calculate cosine similarity between batch and all games (shape=(n_games, batch_size))\n",
        "        cosine_similarity_tensor = F.cosine_similarity(all_ids_predictions,\n",
        "                                                       model(games[:,:-1], scores[:,:-1]).unsqueeze(1),\n",
        "                                                       dim=2)\n",
        "\n",
        "        # get topk ids for each output in batch (shape=(batch_size, k))\n",
        "        batch_topk_ids = all_ids_tensor[torch.topk(cosine_similarity_tensor, k=k, dim=1).indices]\n",
        "\n",
        "        ndsg_k += NDCG_score(games[:,-1:].cpu(), batch_topk_ids.cpu(), k=CFG.K)\n",
        "        map_k += MAP_score(games[:,-1:].cpu(), batch_topk_ids.cpu(), k=CFG.K)\n",
        "        iter_counter += 1\n",
        "#         print(f'Iteration {iter_counter}')\n",
        "        if iter_counter == break_:\n",
        "            break\n",
        "\n",
        "    ndsg_k_test = ndsg_k / iter_counter\n",
        "    map_k_test = map_k / iter_counter\n",
        "\n",
        "\n",
        "    print(f'NDCG@k\\ttrain:\\t{ndsg_k_train}\\ttest:\\t{ndsg_k_test}')\n",
        "    print(f'MAP@k\\ttrain:\\t{map_k_train}\\ttest:\\t{map_k_test}')\n",
        "    return ndsg_k_train, ndsg_k_test, map_k_train, map_k_test\n",
        "\n",
        "# validate_model(all_ids, model=model, train_loader=train_loader, test_loader=val_loader, k=CFG.K)"
      ],
      "id": "fd303ceb"
    },
    {
      "cell_type": "code",
      "execution_count": 19,
      "metadata": {
        "id": "587711ae"
      },
      "outputs": [],
      "source": [
        "def train_model(model, train_loader, val_loader, loss_function, optimizer,\n",
        "                epochs=CFG.TRAIN_EPOCHS, validate=False, break_=None,\n",
        "                save_models=False, previous_epochs=0):\n",
        "    \"\"\"\n",
        "    Function for training model for recomendation system.\n",
        "\n",
        "    Return: If validate is 'False' func returns train losses, if 'True' - losses and metrics\n",
        "\n",
        "    ==========\n",
        "    Parameters:\n",
        "    model - PyTorch model based on nn.Module\n",
        "    train_loader - PyTorch DataLoader object with train data\n",
        "    val_loader - PyTorch DataLoader object with validation data\n",
        "    loss_function - PyTorch loss function\n",
        "    optimizer - PyTorch optimizer\n",
        "    epochs: int - number of traiing epochs\n",
        "    \"\"\"\n",
        "    train_losses = []\n",
        "    for epoch in tqdm(range(epochs)):\n",
        "\n",
        "        train_ndcg = []\n",
        "        val_ndcg = []\n",
        "        train_map = []\n",
        "        val_map = []\n",
        "\n",
        "        train_loss = 0.\n",
        "        it = 0\n",
        "\n",
        "        for games, scores in train_loader:\n",
        "            model.train()\n",
        "\n",
        "            games = games.to(CFG.DEVICE)\n",
        "            scores = scores.to(CFG.DEVICE)\n",
        "\n",
        "            output, target = model(games[:,:-1], scores[:,:-1], games[:,-1])\n",
        "\n",
        "            loss = loss_function(output,\n",
        "                                 target,\n",
        "                                 torch.Tensor([1 for _ in range(len(output))]).to(CFG.DEVICE)) # because we use only positive samples\n",
        "\n",
        "            optimizer.zero_grad()\n",
        "            loss.backward()\n",
        "            optimizer.step()\n",
        "\n",
        "            train_loss = loss.mean().item()\n",
        "            it += 1\n",
        "            train_losses.append(train_loss)\n",
        "\n",
        "            if it == break_:\n",
        "                break\n",
        "\n",
        "        if save_models and CFG.GDRIVE and ((epoch+1) % 5 == 0):\n",
        "            torch.save(model, CFG.PATH_GDRIVE_MAIN + f'/PyTorch_models/LSTM_v1/model_{previous_epochs+epoch+1}ep.pt')\n",
        "\n",
        "        if ((epoch+1) % 5 == 0) and validate:\n",
        "            print(f'==========\\tEPOCH #{epoch+1}\\t==========')\n",
        "            train_ndcg, val_ndcg, train_map, val_map = validate_model(all_ids=all_ids,\n",
        "                                                                      model=model,\n",
        "                                                                      train_loader=train_loader,\n",
        "                                                                      test_loader=val_loader,\n",
        "                                                                      k=CFG.K,\n",
        "                                                                      break_=None)\n",
        "\n",
        "    if validate:\n",
        "        return train_losses, train_ndcg, val_ndcg, train_map, val_map\n",
        "    else:\n",
        "        return train_losses\n"
      ],
      "id": "587711ae"
    },
    {
      "cell_type": "code",
      "execution_count": 20,
      "metadata": {
        "id": "25354157"
      },
      "outputs": [],
      "source": [
        "model = RecSysLSTM(num_items=400000, actual_ids=all_ids).to(CFG.DEVICE)\n",
        "criterion = nn.CosineEmbeddingLoss()\n",
        "optimizer = torch.optim.Adam(model.parameters(), lr=CFG.LEARNING_RATE)"
      ],
      "id": "25354157"
    },
    {
      "cell_type": "code",
      "execution_count": null,
      "metadata": {
        "colab": {
          "base_uri": "https://localhost:8080/",
          "height": 84,
          "referenced_widgets": [
            "93d9f4cb2518476f8bf05152a5b1fb8d",
            "71fcfb55e51d434bb57565a6c2def516",
            "799a28b54c5340f5a512efd4d7b0f984",
            "b09ff019ce2a409ca85d09d35425ecd7",
            "cbf3bc4318444d0792df96c6b333dde7",
            "4ff987a625ff4e5a893e8da264ceaab6",
            "d235d7132b424f68b7f3178ba36216dc",
            "5d6aa54deaee4c2988ef88958da7d7ea",
            "4611f058820c4cba8425762bae18e84d",
            "01a86d33511d4879bba10769be28d022",
            "e42e3e7c4d964f728d06b6f564d2860b"
          ]
        },
        "id": "JnAHow0dd7iv",
        "outputId": "64cf5fe4-6dab-443e-9040-f2563f926fe9"
      },
      "outputs": [
        {
          "data": {
            "application/vnd.jupyter.widget-view+json": {
              "model_id": "93d9f4cb2518476f8bf05152a5b1fb8d",
              "version_major": 2,
              "version_minor": 0
            },
            "text/plain": [
              "  0%|          | 0/1 [00:00<?, ?it/s]"
            ]
          },
          "metadata": {},
          "output_type": "display_data"
        },
        {
          "name": "stdout",
          "output_type": "stream",
          "text": [
            "CPU times: user 2min 29s, sys: 1.29 s, total: 2min 30s\n",
            "Wall time: 2min 40s\n"
          ]
        }
      ],
      "source": [
        "%%time\n",
        "losses = train_model(model=model,\n",
        "            train_loader=train_loader,\n",
        "            val_loader=val_loader,\n",
        "            loss_function=criterion,\n",
        "            optimizer=optimizer,\n",
        "            epochs=1,\n",
        "            save_models=True)"
      ],
      "id": "JnAHow0dd7iv"
    },
    {
      "cell_type": "markdown",
      "metadata": {
        "id": "Qpfi2qIyiI9-"
      },
      "source": [
        "Обучение одной эпохи занимает чуть больше 2,5 минут (для сравнения на CPU это занимало более 1,5 часов) на всем тренировочном датасете, поэтому будем обучать модель и сохранять промежуточные состояния каждые 5 эпох, чтобы впоследствие можно было оценить по тестовой выборке как изменялось качество на каждом этапе обучения.\n",
        "\n",
        "Для начала обучим 50 эпох и оценим результат."
      ],
      "id": "Qpfi2qIyiI9-"
    },
    {
      "cell_type": "code",
      "execution_count": null,
      "metadata": {
        "colab": {
          "background_save": true,
          "base_uri": "https://localhost:8080/",
          "height": 49,
          "referenced_widgets": [
            "8aaf1397c4d94a62b437a466d6f59243",
            "18b95a8bace5437f84e2b68e2a35205e",
            "6815ede6fd5b423e85aecd41c374b2da",
            "2f8638b994904c3b894bf5fa515831d7",
            "96481ba8c9294818957de4793c24d39f",
            "30f7390034e148b18bfb704fd9610ceb",
            "b5a1455c5cdc4c3bb731bad2c5e32b68",
            "ce6d40efc69349e185d92fa24913cf47",
            "cffa5f151533482c9864d13a07de888f",
            "d8e233ec0ade40febb3cfcf809068ab3",
            "e13c5d22dc094997809d59e899d91318"
          ]
        },
        "id": "q-Pt7xAZjqF2",
        "outputId": "7583ba5c-cb5e-4e65-a589-2cd1fa8b349a"
      },
      "outputs": [
        {
          "data": {
            "application/vnd.jupyter.widget-view+json": {
              "model_id": "8aaf1397c4d94a62b437a466d6f59243",
              "version_major": 2,
              "version_minor": 0
            },
            "text/plain": [
              "  0%|          | 0/50 [00:00<?, ?it/s]"
            ]
          },
          "metadata": {},
          "output_type": "display_data"
        },
        {
          "name": "stdout",
          "output_type": "stream",
          "text": [
            "CPU times: user 1h 59min 45s, sys: 57.9 s, total: 2h 43s\n",
            "Wall time: 2h 1min 49s\n"
          ]
        }
      ],
      "source": [
        "%%time\n",
        "losses = train_model(model=model,\n",
        "            train_loader=train_loader,\n",
        "            val_loader=val_loader,\n",
        "            loss_function=criterion,\n",
        "            optimizer=optimizer,\n",
        "            epochs=50,\n",
        "            save_models=True)"
      ],
      "id": "q-Pt7xAZjqF2"
    },
    {
      "cell_type": "code",
      "source": [
        "# Model class must be defined somewhere\n",
        "model = torch.load(CFG.PATH_GDRIVE_MAIN + '/PyTorch_models/LSTM_v1/model_50ep.pt')\n",
        "model = model.to(CFG.DEVICE)\n",
        "model.eval()"
      ],
      "metadata": {
        "colab": {
          "base_uri": "https://localhost:8080/"
        },
        "id": "kAkEvgcnE4L9",
        "outputId": "8b76211a-85f8-4846-d5b1-39109a9acd29"
      },
      "id": "kAkEvgcnE4L9",
      "execution_count": 26,
      "outputs": [
        {
          "output_type": "execute_result",
          "data": {
            "text/plain": [
              "RecSysLSTM(\n",
              "  (item_embed): Embedding(400000, 16)\n",
              "  (lstm): LSTM(17, 64, batch_first=True)\n",
              "  (linear): Linear(in_features=64, out_features=16, bias=True)\n",
              "  (linear_for_answer): Linear(in_features=16, out_features=16, bias=True)\n",
              ")"
            ]
          },
          "metadata": {},
          "execution_count": 26
        }
      ]
    },
    {
      "cell_type": "code",
      "source": [
        "%%time\n",
        "validate_model(all_ids, model=model, train_loader=train_loader, test_loader=val_loader, k=CFG.K)"
      ],
      "metadata": {
        "colab": {
          "base_uri": "https://localhost:8080/",
          "height": 220,
          "referenced_widgets": [
            "f79e3bb10fe14d8b891f7ae514eab043",
            "95d88283be3c424fae3d11bdd7babe86",
            "a9d81ce197744cb38c7f5116d264a7ca",
            "f0e77c89c8b646e4bb6c0268aa235a10",
            "e611990f789949ffa7220fd0659032e3",
            "658321c84e0145aaad9ae9b5a46b5c65",
            "a1648a78c73548f8a5fe76fff60b5f05",
            "2b26b096e8d14f34b08a10d713c1d0b8",
            "f4e2d6ff212c4f4a87682874b6bb6a49",
            "3bfe385ba6a84172a86bb13daaa30685",
            "c0e8cbcf669b48eca54f920072f92665",
            "70a11c03543447739070aa5b7dc09c27",
            "b4123fb78dbb4a4db31752ce91addbaa",
            "45ff638c1d7847ff9408701b25a88149",
            "0eedffc30a9840a1bd9d10aceea78614",
            "610d150233a0476380e44312e00b4a1d",
            "d56f41a6bf2e4778bb8a5360be6bdfd4",
            "2e0158b073dd463e9c2c830bcf94f83c",
            "f1c1f9b7d4394ad88c84b9c094fdc2e6",
            "58f06e3302a84360bc558b24f02fee5f",
            "0afc4e562990416393f715da4b6953b9",
            "2624d406f1a94d42994241a159ef88be"
          ]
        },
        "id": "HQxHVN9AFql1",
        "outputId": "14669b73-052a-4bee-dee4-fe3b3d4bb402"
      },
      "id": "HQxHVN9AFql1",
      "execution_count": 33,
      "outputs": [
        {
          "data": {
            "application/vnd.jupyter.widget-view+json": {
              "model_id": "f79e3bb10fe14d8b891f7ae514eab043",
              "version_major": 2,
              "version_minor": 0
            },
            "text/plain": [
              "  0%|          | 0/19506 [00:00<?, ?it/s]"
            ]
          },
          "metadata": {},
          "output_type": "display_data"
        },
        {
          "output_type": "display_data",
          "data": {
            "text/plain": [
              "  0%|          | 0/8360 [00:00<?, ?it/s]"
            ],
            "application/vnd.jupyter.widget-view+json": {
              "version_major": 2,
              "version_minor": 0,
              "model_id": "70a11c03543447739070aa5b7dc09c27"
            }
          },
          "metadata": {}
        },
        {
          "output_type": "stream",
          "name": "stdout",
          "text": [
            "NDCG@k\ttrain:\t0.00020430740904768673\ttest:\t0.00019011619408802703\n",
            "MAP@k\ttrain:\t0.00011679655013557107\ttest:\t0.00010618476233196575\n",
            "CPU times: user 42min 56s, sys: 8.76 s, total: 43min 5s\n",
            "Wall time: 43min 31s\n"
          ]
        },
        {
          "output_type": "execute_result",
          "data": {
            "text/plain": [
              "(0.00020430740904768673,\n",
              " 0.00019011619408802703,\n",
              " 0.00011679655013557107,\n",
              " 0.00010618476233196575)"
            ]
          },
          "metadata": {},
          "execution_count": 33
        }
      ]
    },
    {
      "cell_type": "code",
      "source": [
        "# Model class must be defined somewhere\n",
        "model = torch.load(CFG.PATH_GDRIVE_MAIN + '/PyTorch_models/LSTM_v1/model_0ep.pt')\n",
        "model = model.to(CFG.DEVICE)\n",
        "model.eval()"
      ],
      "metadata": {
        "id": "fIwlvTvKQ52y"
      },
      "id": "fIwlvTvKQ52y",
      "execution_count": null,
      "outputs": []
    },
    {
      "cell_type": "code",
      "execution_count": null,
      "metadata": {
        "colab": {
          "referenced_widgets": [
            "383d02e489d5459e912db1981c9eeef8",
            "d96dcaea60fd421f91ad0766ada4c406"
          ]
        },
        "id": "0ae931dc",
        "outputId": "8c8bc15a-5d8d-4667-fe92-fd897983aa9b"
      },
      "outputs": [
        {
          "data": {
            "application/vnd.jupyter.widget-view+json": {
              "model_id": "383d02e489d5459e912db1981c9eeef8",
              "version_major": 2,
              "version_minor": 0
            },
            "text/plain": [
              "  0%|          | 0/19506 [00:00<?, ?it/s]"
            ]
          },
          "metadata": {},
          "output_type": "display_data"
        },
        {
          "data": {
            "application/vnd.jupyter.widget-view+json": {
              "model_id": "d96dcaea60fd421f91ad0766ada4c406",
              "version_major": 2,
              "version_minor": 0
            },
            "text/plain": [
              "  0%|          | 0/8360 [00:00<?, ?it/s]"
            ]
          },
          "metadata": {},
          "output_type": "display_data"
        },
        {
          "name": "stdout",
          "output_type": "stream",
          "text": [
            "NDCG@k\ttrain:\t0.00022554652086911157\ttest:\t0.0002274347871783394\n",
            "MAP@k\ttrain:\t0.00012956869688752738\ttest:\t0.00013146732539207827\n",
            "CPU times: user 2d 9h 44min 56s, sys: 22h 58min 30s, total: 3d 8h 43min 27s\n",
            "Wall time: 1d 22h 44min 54s\n"
          ]
        },
        {
          "data": {
            "text/plain": [
              "(0.00022554652086911157,\n",
              " 0.0002274347871783394,\n",
              " 0.00012956869688752738,\n",
              " 0.00013146732539207827)"
            ]
          },
          "execution_count": 957,
          "metadata": {},
          "output_type": "execute_result"
        }
      ],
      "source": [
        "%%time\n",
        "validate_model(all_ids, model=model, train_loader=train_loader, test_loader=val_loader, k=CFG.K)"
      ],
      "id": "0ae931dc"
    },
    {
      "cell_type": "markdown",
      "source": [
        "Улучшения по метрикам нет, поэтому попробуем дообучиться еще 150 эпох"
      ],
      "metadata": {
        "id": "YFuVPl1qRbRw"
      },
      "id": "YFuVPl1qRbRw"
    },
    {
      "cell_type": "code",
      "source": [
        "%%time\n",
        "losses_50_200 = train_model(model=model,\n",
        "            train_loader=train_loader,\n",
        "            val_loader=val_loader,\n",
        "            loss_function=criterion,\n",
        "            optimizer=optimizer,\n",
        "            epochs=150,\n",
        "            save_models=True,\n",
        "            previous_epochs=50)"
      ],
      "metadata": {
        "colab": {
          "base_uri": "https://localhost:8080/",
          "height": 84,
          "referenced_widgets": [
            "3587535aa7724aceb3939fcb0870b53c",
            "57e475b5e42e494b85cb89988a2f5b24",
            "68574daea4e54b97bfca78e6898055bb",
            "b2c61e70d225419ab0a6c765ce2307fd",
            "b0a3134e6f98484383937885dafcf7c4",
            "3078a5b4ff134831bbfcd684c9f6a532",
            "c76c5865f95e4b72ba41f9f3d74df5fd",
            "563bb8798d224ff8a677214f314fb676",
            "c7e72d2ddb8d4849b08aaeb2a2e41d5e",
            "f8ce774392cb48fd871ea2873a663721",
            "bbfa2c798288435aaa1364f1d289e604"
          ]
        },
        "id": "EFseCFUgQ376",
        "outputId": "f31eacb2-ee03-4e1e-9f82-272036b3f7d4"
      },
      "id": "EFseCFUgQ376",
      "execution_count": 36,
      "outputs": [
        {
          "output_type": "display_data",
          "data": {
            "text/plain": [
              "  0%|          | 0/150 [00:00<?, ?it/s]"
            ],
            "application/vnd.jupyter.widget-view+json": {
              "version_major": 2,
              "version_minor": 0,
              "model_id": "3587535aa7724aceb3939fcb0870b53c"
            }
          },
          "metadata": {}
        },
        {
          "output_type": "stream",
          "name": "stdout",
          "text": [
            "CPU times: user 4h 35min 15s, sys: 2min 35s, total: 4h 37min 51s\n",
            "Wall time: 4h 40min 44s\n"
          ]
        }
      ]
    },
    {
      "cell_type": "code",
      "source": [
        "plt.plot(losses_50_200)\n",
        "plt.show()"
      ],
      "metadata": {
        "colab": {
          "base_uri": "https://localhost:8080/",
          "height": 463
        },
        "id": "KQDr2YERRMG9",
        "outputId": "0e1b715e-b786-4738-ad8d-9c89be6388ac"
      },
      "id": "KQDr2YERRMG9",
      "execution_count": 40,
      "outputs": [
        {
          "output_type": "display_data",
          "data": {
            "text/plain": [
              "<Figure size 640x480 with 1 Axes>"
            ],
            "image/png": "[encoded data removed]"
          },
          "metadata": {}
        }
      ]
    },
    {
      "cell_type": "code",
      "source": [
        "%%time\n",
        "validate_model(all_ids, model=model, train_loader=train_loader, test_loader=val_loader, k=CFG.K)"
      ],
      "metadata": {
        "colab": {
          "base_uri": "https://localhost:8080/",
          "height": 220,
          "referenced_widgets": [
            "f9bb1f6620c14f0ca8fbb9f1fd430801",
            "b8489130d29b4d5ba80787063196124e",
            "c79d4010cccb4e2caf5de6004e1a49ed",
            "7fc209cb731c44a9a2c5ce367e6a9425",
            "f6c1beb3f2d548eaaec42b7a1652ecc9",
            "5defb896aafa480b9a78b85b99926996",
            "c11b9bc2c5da4abeb4778d7acb5f90bd",
            "f8a1c175ce154ca3808a03da44176fd8",
            "9b1ac35036564f728b4c269788d54786",
            "819f05e6146149e2a9366925da5e9ba1",
            "5bf452fa79d34129a92a8c878cf8c9ad",
            "317860a6ab7444b1920150a9fe6143dd",
            "48951d83da2948f49e337106309ba6cc",
            "221fdd7f9c46426b9a31ce4f9aec2ec5",
            "53a7a7d614544742a973621faa287413",
            "4e61c74b7b31452aa44852419711732d",
            "91dc6c27b49b4ef5b69f1d0341485d26",
            "ef49b477ead14116a3dc957227f7be92",
            "96f75717e0f749299528a2a6137fbad9",
            "622a748a95dd4e94bc6a9faa946fadec",
            "b8449830d18845aa80f8b0e0f7b8c255",
            "1c1a16332e7f4f31915a4fadabe47efc"
          ]
        },
        "id": "A_WMTS2DTVGr",
        "outputId": "d1465e02-7ecf-47f6-8b03-2590a2de24fa"
      },
      "id": "A_WMTS2DTVGr",
      "execution_count": 43,
      "outputs": [
        {
          "output_type": "display_data",
          "data": {
            "text/plain": [
              "  0%|          | 0/19506 [00:00<?, ?it/s]"
            ],
            "application/vnd.jupyter.widget-view+json": {
              "version_major": 2,
              "version_minor": 0,
              "model_id": "f9bb1f6620c14f0ca8fbb9f1fd430801"
            }
          },
          "metadata": {}
        },
        {
          "output_type": "display_data",
          "data": {
            "text/plain": [
              "  0%|          | 0/8360 [00:00<?, ?it/s]"
            ],
            "application/vnd.jupyter.widget-view+json": {
              "version_major": 2,
              "version_minor": 0,
              "model_id": "317860a6ab7444b1920150a9fe6143dd"
            }
          },
          "metadata": {}
        },
        {
          "output_type": "stream",
          "name": "stdout",
          "text": [
            "NDCG@k\ttrain:\t0.00020430740904768673\ttest:\t0.00019011619408802703\n",
            "MAP@k\ttrain:\t0.00011679655013557112\ttest:\t0.00010618476233196575\n",
            "CPU times: user 43min 9s, sys: 9.39 s, total: 43min 19s\n",
            "Wall time: 43min 48s\n"
          ]
        },
        {
          "output_type": "execute_result",
          "data": {
            "text/plain": [
              "(0.00020430740904768673,\n",
              " 0.00019011619408802703,\n",
              " 0.00011679655013557112,\n",
              " 0.00010618476233196575)"
            ]
          },
          "metadata": {},
          "execution_count": 43
        }
      ]
    },
    {
      "cell_type": "markdown",
      "metadata": {
        "id": "498c8c71"
      },
      "source": [
        "# Saving model"
      ],
      "id": "498c8c71"
    },
    {
      "cell_type": "code",
      "execution_count": null,
      "metadata": {
        "id": "812de3ec"
      },
      "outputs": [],
      "source": [
        "torch.save(model, CFG.PATH_GDRIVE_MAIN + '/PyTorch_models/LSTM_v1/model_0ep.pt')"
      ],
      "id": "812de3ec"
    },
    {
      "cell_type": "code",
      "execution_count": null,
      "metadata": {
        "id": "c0856f6b"
      },
      "outputs": [],
      "source": [
        "# Model class must be defined somewhere\n",
        "model = torch.load(CFG.PATH_FOR_MODEL)\n",
        "model.eval()"
      ],
      "id": "c0856f6b"
    }
  ],
  "metadata": {
    "accelerator": "GPU",
    "colab": {
      "provenance": []
    },
    "kernelspec": {
      "display_name": "Python 3",
      "name": "python3"
    },
    "language_info": {
      "codemirror_mode": {
        "name": "ipython",
        "version": 3
      },
      "file_extension": ".py",
      "mimetype": "text/x-python",
      "name": "python",
      "nbconvert_exporter": "python",
      "pygments_lexer": "ipython3",
      "version": "3.10.6"
    },
    "widgets": {
      "application/vnd.jupyter.widget-state+json": {
        "01a86d33511d4879bba10769be28d022": {
          "model_module": "@jupyter-widgets/base",
          "model_module_version": "1.2.0",
          "model_name": "LayoutModel",
          "state": {
            "_model_module": "@jupyter-widgets/base",
            "_model_module_version": "1.2.0",
            "_model_name": "LayoutModel",
            "_view_count": null,
            "_view_module": "@jupyter-widgets/base",
            "_view_module_version": "1.2.0",
            "_view_name": "LayoutView",
            "align_content": null,
            "align_items": null,
            "align_self": null,
            "border": null,
            "bottom": null,
            "display": null,
            "flex": null,
            "flex_flow": null,
            "grid_area": null,
            "grid_auto_columns": null,
            "grid_auto_flow": null,
            "grid_auto_rows": null,
            "grid_column": null,
            "grid_gap": null,
            "grid_row": null,
            "grid_template_areas": null,
            "grid_template_columns": null,
            "grid_template_rows": null,
            "height": null,
            "justify_content": null,
            "justify_items": null,
            "left": null,
            "margin": null,
            "max_height": null,
            "max_width": null,
            "min_height": null,
            "min_width": null,
            "object_fit": null,
            "object_position": null,
            "order": null,
            "overflow": null,
            "overflow_x": null,
            "overflow_y": null,
            "padding": null,
            "right": null,
            "top": null,
            "visibility": null,
            "width": null
          }
        },
        "18b95a8bace5437f84e2b68e2a35205e": {
          "model_module": "@jupyter-widgets/controls",
          "model_module_version": "1.5.0",
          "model_name": "HTMLModel",
          "state": {
            "_dom_classes": [],
            "_model_module": "@jupyter-widgets/controls",
            "_model_module_version": "1.5.0",
            "_model_name": "HTMLModel",
            "_view_count": null,
            "_view_module": "@jupyter-widgets/controls",
            "_view_module_version": "1.5.0",
            "_view_name": "HTMLView",
            "description": "",
            "description_tooltip": null,
            "layout": "IPY_MODEL_30f7390034e148b18bfb704fd9610ceb",
            "placeholder": "​",
            "style": "IPY_MODEL_b5a1455c5cdc4c3bb731bad2c5e32b68",
            "value": " 16%"
          }
        },
        "2f8638b994904c3b894bf5fa515831d7": {
          "model_module": "@jupyter-widgets/controls",
          "model_module_version": "1.5.0",
          "model_name": "HTMLModel",
          "state": {
            "_dom_classes": [],
            "_model_module": "@jupyter-widgets/controls",
            "_model_module_version": "1.5.0",
            "_model_name": "HTMLModel",
            "_view_count": null,
            "_view_module": "@jupyter-widgets/controls",
            "_view_module_version": "1.5.0",
            "_view_name": "HTMLView",
            "description": "",
            "description_tooltip": null,
            "layout": "IPY_MODEL_d8e233ec0ade40febb3cfcf809068ab3",
            "placeholder": "​",
            "style": "IPY_MODEL_e13c5d22dc094997809d59e899d91318",
            "value": " 8/50 [19:38&lt;1:43:51, 148.36s/it]"
          }
        },
        "30f7390034e148b18bfb704fd9610ceb": {
          "model_module": "@jupyter-widgets/base",
          "model_module_version": "1.2.0",
          "model_name": "LayoutModel",
          "state": {
            "_model_module": "@jupyter-widgets/base",
            "_model_module_version": "1.2.0",
            "_model_name": "LayoutModel",
            "_view_count": null,
            "_view_module": "@jupyter-widgets/base",
            "_view_module_version": "1.2.0",
            "_view_name": "LayoutView",
            "align_content": null,
            "align_items": null,
            "align_self": null,
            "border": null,
            "bottom": null,
            "display": null,
            "flex": null,
            "flex_flow": null,
            "grid_area": null,
            "grid_auto_columns": null,
            "grid_auto_flow": null,
            "grid_auto_rows": null,
            "grid_column": null,
            "grid_gap": null,
            "grid_row": null,
            "grid_template_areas": null,
            "grid_template_columns": null,
            "grid_template_rows": null,
            "height": null,
            "justify_content": null,
            "justify_items": null,
            "left": null,
            "margin": null,
            "max_height": null,
            "max_width": null,
            "min_height": null,
            "min_width": null,
            "object_fit": null,
            "object_position": null,
            "order": null,
            "overflow": null,
            "overflow_x": null,
            "overflow_y": null,
            "padding": null,
            "right": null,
            "top": null,
            "visibility": null,
            "width": null
          }
        },
        "4611f058820c4cba8425762bae18e84d": {
          "model_module": "@jupyter-widgets/controls",
          "model_module_version": "1.5.0",
          "model_name": "ProgressStyleModel",
          "state": {
            "_model_module": "@jupyter-widgets/controls",
            "_model_module_version": "1.5.0",
            "_model_name": "ProgressStyleModel",
            "_view_count": null,
            "_view_module": "@jupyter-widgets/base",
            "_view_module_version": "1.2.0",
            "_view_name": "StyleView",
            "bar_color": null,
            "description_width": ""
          }
        },
        "4ff987a625ff4e5a893e8da264ceaab6": {
          "model_module": "@jupyter-widgets/base",
          "model_module_version": "1.2.0",
          "model_name": "LayoutModel",
          "state": {
            "_model_module": "@jupyter-widgets/base",
            "_model_module_version": "1.2.0",
            "_model_name": "LayoutModel",
            "_view_count": null,
            "_view_module": "@jupyter-widgets/base",
            "_view_module_version": "1.2.0",
            "_view_name": "LayoutView",
            "align_content": null,
            "align_items": null,
            "align_self": null,
            "border": null,
            "bottom": null,
            "display": null,
            "flex": null,
            "flex_flow": null,
            "grid_area": null,
            "grid_auto_columns": null,
            "grid_auto_flow": null,
            "grid_auto_rows": null,
            "grid_column": null,
            "grid_gap": null,
            "grid_row": null,
            "grid_template_areas": null,
            "grid_template_columns": null,
            "grid_template_rows": null,
            "height": null,
            "justify_content": null,
            "justify_items": null,
            "left": null,
            "margin": null,
            "max_height": null,
            "max_width": null,
            "min_height": null,
            "min_width": null,
            "object_fit": null,
            "object_position": null,
            "order": null,
            "overflow": null,
            "overflow_x": null,
            "overflow_y": null,
            "padding": null,
            "right": null,
            "top": null,
            "visibility": null,
            "width": null
          }
        },
        "5d6aa54deaee4c2988ef88958da7d7ea": {
          "model_module": "@jupyter-widgets/base",
          "model_module_version": "1.2.0",
          "model_name": "LayoutModel",
          "state": {
            "_model_module": "@jupyter-widgets/base",
            "_model_module_version": "1.2.0",
            "_model_name": "LayoutModel",
            "_view_count": null,
            "_view_module": "@jupyter-widgets/base",
            "_view_module_version": "1.2.0",
            "_view_name": "LayoutView",
            "align_content": null,
            "align_items": null,
            "align_self": null,
            "border": null,
            "bottom": null,
            "display": null,
            "flex": null,
            "flex_flow": null,
            "grid_area": null,
            "grid_auto_columns": null,
            "grid_auto_flow": null,
            "grid_auto_rows": null,
            "grid_column": null,
            "grid_gap": null,
            "grid_row": null,
            "grid_template_areas": null,
            "grid_template_columns": null,
            "grid_template_rows": null,
            "height": null,
            "justify_content": null,
            "justify_items": null,
            "left": null,
            "margin": null,
            "max_height": null,
            "max_width": null,
            "min_height": null,
            "min_width": null,
            "object_fit": null,
            "object_position": null,
            "order": null,
            "overflow": null,
            "overflow_x": null,
            "overflow_y": null,
            "padding": null,
            "right": null,
            "top": null,
            "visibility": null,
            "width": null
          }
        },
        "6815ede6fd5b423e85aecd41c374b2da": {
          "model_module": "@jupyter-widgets/controls",
          "model_module_version": "1.5.0",
          "model_name": "FloatProgressModel",
          "state": {
            "_dom_classes": [],
            "_model_module": "@jupyter-widgets/controls",
            "_model_module_version": "1.5.0",
            "_model_name": "FloatProgressModel",
            "_view_count": null,
            "_view_module": "@jupyter-widgets/controls",
            "_view_module_version": "1.5.0",
            "_view_name": "ProgressView",
            "bar_style": "",
            "description": "",
            "description_tooltip": null,
            "layout": "IPY_MODEL_ce6d40efc69349e185d92fa24913cf47",
            "max": 50,
            "min": 0,
            "orientation": "horizontal",
            "style": "IPY_MODEL_cffa5f151533482c9864d13a07de888f",
            "value": 8
          }
        },
        "71fcfb55e51d434bb57565a6c2def516": {
          "model_module": "@jupyter-widgets/controls",
          "model_module_version": "1.5.0",
          "model_name": "HTMLModel",
          "state": {
            "_dom_classes": [],
            "_model_module": "@jupyter-widgets/controls",
            "_model_module_version": "1.5.0",
            "_model_name": "HTMLModel",
            "_view_count": null,
            "_view_module": "@jupyter-widgets/controls",
            "_view_module_version": "1.5.0",
            "_view_name": "HTMLView",
            "description": "",
            "description_tooltip": null,
            "layout": "IPY_MODEL_4ff987a625ff4e5a893e8da264ceaab6",
            "placeholder": "​",
            "style": "IPY_MODEL_d235d7132b424f68b7f3178ba36216dc",
            "value": "100%"
          }
        },
        "799a28b54c5340f5a512efd4d7b0f984": {
          "model_module": "@jupyter-widgets/controls",
          "model_module_version": "1.5.0",
          "model_name": "FloatProgressModel",
          "state": {
            "_dom_classes": [],
            "_model_module": "@jupyter-widgets/controls",
            "_model_module_version": "1.5.0",
            "_model_name": "FloatProgressModel",
            "_view_count": null,
            "_view_module": "@jupyter-widgets/controls",
            "_view_module_version": "1.5.0",
            "_view_name": "ProgressView",
            "bar_style": "success",
            "description": "",
            "description_tooltip": null,
            "layout": "IPY_MODEL_5d6aa54deaee4c2988ef88958da7d7ea",
            "max": 1,
            "min": 0,
            "orientation": "horizontal",
            "style": "IPY_MODEL_4611f058820c4cba8425762bae18e84d",
            "value": 1
          }
        },
        "8aaf1397c4d94a62b437a466d6f59243": {
          "model_module": "@jupyter-widgets/controls",
          "model_module_version": "1.5.0",
          "model_name": "HBoxModel",
          "state": {
            "_dom_classes": [],
            "_model_module": "@jupyter-widgets/controls",
            "_model_module_version": "1.5.0",
            "_model_name": "HBoxModel",
            "_view_count": null,
            "_view_module": "@jupyter-widgets/controls",
            "_view_module_version": "1.5.0",
            "_view_name": "HBoxView",
            "box_style": "",
            "children": [
              "IPY_MODEL_18b95a8bace5437f84e2b68e2a35205e",
              "IPY_MODEL_6815ede6fd5b423e85aecd41c374b2da",
              "IPY_MODEL_2f8638b994904c3b894bf5fa515831d7"
            ],
            "layout": "IPY_MODEL_96481ba8c9294818957de4793c24d39f"
          }
        },
        "93d9f4cb2518476f8bf05152a5b1fb8d": {
          "model_module": "@jupyter-widgets/controls",
          "model_module_version": "1.5.0",
          "model_name": "HBoxModel",
          "state": {
            "_dom_classes": [],
            "_model_module": "@jupyter-widgets/controls",
            "_model_module_version": "1.5.0",
            "_model_name": "HBoxModel",
            "_view_count": null,
            "_view_module": "@jupyter-widgets/controls",
            "_view_module_version": "1.5.0",
            "_view_name": "HBoxView",
            "box_style": "",
            "children": [
              "IPY_MODEL_71fcfb55e51d434bb57565a6c2def516",
              "IPY_MODEL_799a28b54c5340f5a512efd4d7b0f984",
              "IPY_MODEL_b09ff019ce2a409ca85d09d35425ecd7"
            ],
            "layout": "IPY_MODEL_cbf3bc4318444d0792df96c6b333dde7"
          }
        },
        "96481ba8c9294818957de4793c24d39f": {
          "model_module": "@jupyter-widgets/base",
          "model_module_version": "1.2.0",
          "model_name": "LayoutModel",
          "state": {
            "_model_module": "@jupyter-widgets/base",
            "_model_module_version": "1.2.0",
            "_model_name": "LayoutModel",
            "_view_count": null,
            "_view_module": "@jupyter-widgets/base",
            "_view_module_version": "1.2.0",
            "_view_name": "LayoutView",
            "align_content": null,
            "align_items": null,
            "align_self": null,
            "border": null,
            "bottom": null,
            "display": null,
            "flex": null,
            "flex_flow": null,
            "grid_area": null,
            "grid_auto_columns": null,
            "grid_auto_flow": null,
            "grid_auto_rows": null,
            "grid_column": null,
            "grid_gap": null,
            "grid_row": null,
            "grid_template_areas": null,
            "grid_template_columns": null,
            "grid_template_rows": null,
            "height": null,
            "justify_content": null,
            "justify_items": null,
            "left": null,
            "margin": null,
            "max_height": null,
            "max_width": null,
            "min_height": null,
            "min_width": null,
            "object_fit": null,
            "object_position": null,
            "order": null,
            "overflow": null,
            "overflow_x": null,
            "overflow_y": null,
            "padding": null,
            "right": null,
            "top": null,
            "visibility": null,
            "width": null
          }
        },
        "b09ff019ce2a409ca85d09d35425ecd7": {
          "model_module": "@jupyter-widgets/controls",
          "model_module_version": "1.5.0",
          "model_name": "HTMLModel",
          "state": {
            "_dom_classes": [],
            "_model_module": "@jupyter-widgets/controls",
            "_model_module_version": "1.5.0",
            "_model_name": "HTMLModel",
            "_view_count": null,
            "_view_module": "@jupyter-widgets/controls",
            "_view_module_version": "1.5.0",
            "_view_name": "HTMLView",
            "description": "",
            "description_tooltip": null,
            "layout": "IPY_MODEL_01a86d33511d4879bba10769be28d022",
            "placeholder": "​",
            "style": "IPY_MODEL_e42e3e7c4d964f728d06b6f564d2860b",
            "value": " 1/1 [02:40&lt;00:00, 160.10s/it]"
          }
        },
        "b5a1455c5cdc4c3bb731bad2c5e32b68": {
          "model_module": "@jupyter-widgets/controls",
          "model_module_version": "1.5.0",
          "model_name": "DescriptionStyleModel",
          "state": {
            "_model_module": "@jupyter-widgets/controls",
            "_model_module_version": "1.5.0",
            "_model_name": "DescriptionStyleModel",
            "_view_count": null,
            "_view_module": "@jupyter-widgets/base",
            "_view_module_version": "1.2.0",
            "_view_name": "StyleView",
            "description_width": ""
          }
        },
        "cbf3bc4318444d0792df96c6b333dde7": {
          "model_module": "@jupyter-widgets/base",
          "model_module_version": "1.2.0",
          "model_name": "LayoutModel",
          "state": {
            "_model_module": "@jupyter-widgets/base",
            "_model_module_version": "1.2.0",
            "_model_name": "LayoutModel",
            "_view_count": null,
            "_view_module": "@jupyter-widgets/base",
            "_view_module_version": "1.2.0",
            "_view_name": "LayoutView",
            "align_content": null,
            "align_items": null,
            "align_self": null,
            "border": null,
            "bottom": null,
            "display": null,
            "flex": null,
            "flex_flow": null,
            "grid_area": null,
            "grid_auto_columns": null,
            "grid_auto_flow": null,
            "grid_auto_rows": null,
            "grid_column": null,
            "grid_gap": null,
            "grid_row": null,
            "grid_template_areas": null,
            "grid_template_columns": null,
            "grid_template_rows": null,
            "height": null,
            "justify_content": null,
            "justify_items": null,
            "left": null,
            "margin": null,
            "max_height": null,
            "max_width": null,
            "min_height": null,
            "min_width": null,
            "object_fit": null,
            "object_position": null,
            "order": null,
            "overflow": null,
            "overflow_x": null,
            "overflow_y": null,
            "padding": null,
            "right": null,
            "top": null,
            "visibility": null,
            "width": null
          }
        },
        "ce6d40efc69349e185d92fa24913cf47": {
          "model_module": "@jupyter-widgets/base",
          "model_module_version": "1.2.0",
          "model_name": "LayoutModel",
          "state": {
            "_model_module": "@jupyter-widgets/base",
            "_model_module_version": "1.2.0",
            "_model_name": "LayoutModel",
            "_view_count": null,
            "_view_module": "@jupyter-widgets/base",
            "_view_module_version": "1.2.0",
            "_view_name": "LayoutView",
            "align_content": null,
            "align_items": null,
            "align_self": null,
            "border": null,
            "bottom": null,
            "display": null,
            "flex": null,
            "flex_flow": null,
            "grid_area": null,
            "grid_auto_columns": null,
            "grid_auto_flow": null,
            "grid_auto_rows": null,
            "grid_column": null,
            "grid_gap": null,
            "grid_row": null,
            "grid_template_areas": null,
            "grid_template_columns": null,
            "grid_template_rows": null,
            "height": null,
            "justify_content": null,
            "justify_items": null,
            "left": null,
            "margin": null,
            "max_height": null,
            "max_width": null,
            "min_height": null,
            "min_width": null,
            "object_fit": null,
            "object_position": null,
            "order": null,
            "overflow": null,
            "overflow_x": null,
            "overflow_y": null,
            "padding": null,
            "right": null,
            "top": null,
            "visibility": null,
            "width": null
          }
        },
        "cffa5f151533482c9864d13a07de888f": {
          "model_module": "@jupyter-widgets/controls",
          "model_module_version": "1.5.0",
          "model_name": "ProgressStyleModel",
          "state": {
            "_model_module": "@jupyter-widgets/controls",
            "_model_module_version": "1.5.0",
            "_model_name": "ProgressStyleModel",
            "_view_count": null,
            "_view_module": "@jupyter-widgets/base",
            "_view_module_version": "1.2.0",
            "_view_name": "StyleView",
            "bar_color": null,
            "description_width": ""
          }
        },
        "d235d7132b424f68b7f3178ba36216dc": {
          "model_module": "@jupyter-widgets/controls",
          "model_module_version": "1.5.0",
          "model_name": "DescriptionStyleModel",
          "state": {
            "_model_module": "@jupyter-widgets/controls",
            "_model_module_version": "1.5.0",
            "_model_name": "DescriptionStyleModel",
            "_view_count": null,
            "_view_module": "@jupyter-widgets/base",
            "_view_module_version": "1.2.0",
            "_view_name": "StyleView",
            "description_width": ""
          }
        },
        "d8e233ec0ade40febb3cfcf809068ab3": {
          "model_module": "@jupyter-widgets/base",
          "model_module_version": "1.2.0",
          "model_name": "LayoutModel",
          "state": {
            "_model_module": "@jupyter-widgets/base",
            "_model_module_version": "1.2.0",
            "_model_name": "LayoutModel",
            "_view_count": null,
            "_view_module": "@jupyter-widgets/base",
            "_view_module_version": "1.2.0",
            "_view_name": "LayoutView",
            "align_content": null,
            "align_items": null,
            "align_self": null,
            "border": null,
            "bottom": null,
            "display": null,
            "flex": null,
            "flex_flow": null,
            "grid_area": null,
            "grid_auto_columns": null,
            "grid_auto_flow": null,
            "grid_auto_rows": null,
            "grid_column": null,
            "grid_gap": null,
            "grid_row": null,
            "grid_template_areas": null,
            "grid_template_columns": null,
            "grid_template_rows": null,
            "height": null,
            "justify_content": null,
            "justify_items": null,
            "left": null,
            "margin": null,
            "max_height": null,
            "max_width": null,
            "min_height": null,
            "min_width": null,
            "object_fit": null,
            "object_position": null,
            "order": null,
            "overflow": null,
            "overflow_x": null,
            "overflow_y": null,
            "padding": null,
            "right": null,
            "top": null,
            "visibility": null,
            "width": null
          }
        },
        "e13c5d22dc094997809d59e899d91318": {
          "model_module": "@jupyter-widgets/controls",
          "model_module_version": "1.5.0",
          "model_name": "DescriptionStyleModel",
          "state": {
            "_model_module": "@jupyter-widgets/controls",
            "_model_module_version": "1.5.0",
            "_model_name": "DescriptionStyleModel",
            "_view_count": null,
            "_view_module": "@jupyter-widgets/base",
            "_view_module_version": "1.2.0",
            "_view_name": "StyleView",
            "description_width": ""
          }
        },
        "e42e3e7c4d964f728d06b6f564d2860b": {
          "model_module": "@jupyter-widgets/controls",
          "model_module_version": "1.5.0",
          "model_name": "DescriptionStyleModel",
          "state": {
            "_model_module": "@jupyter-widgets/controls",
            "_model_module_version": "1.5.0",
            "_model_name": "DescriptionStyleModel",
            "_view_count": null,
            "_view_module": "@jupyter-widgets/base",
            "_view_module_version": "1.2.0",
            "_view_name": "StyleView",
            "description_width": ""
          }
        },
        "f79e3bb10fe14d8b891f7ae514eab043": {
          "model_module": "@jupyter-widgets/controls",
          "model_name": "HBoxModel",
          "model_module_version": "1.5.0",
          "state": {
            "_dom_classes": [],
            "_model_module": "@jupyter-widgets/controls",
            "_model_module_version": "1.5.0",
            "_model_name": "HBoxModel",
            "_view_count": null,
            "_view_module": "@jupyter-widgets/controls",
            "_view_module_version": "1.5.0",
            "_view_name": "HBoxView",
            "box_style": "",
            "children": [
              "IPY_MODEL_95d88283be3c424fae3d11bdd7babe86",
              "IPY_MODEL_a9d81ce197744cb38c7f5116d264a7ca",
              "IPY_MODEL_f0e77c89c8b646e4bb6c0268aa235a10"
            ],
            "layout": "IPY_MODEL_e611990f789949ffa7220fd0659032e3"
          }
        },
        "95d88283be3c424fae3d11bdd7babe86": {
          "model_module": "@jupyter-widgets/controls",
          "model_name": "HTMLModel",
          "model_module_version": "1.5.0",
          "state": {
            "_dom_classes": [],
            "_model_module": "@jupyter-widgets/controls",
            "_model_module_version": "1.5.0",
            "_model_name": "HTMLModel",
            "_view_count": null,
            "_view_module": "@jupyter-widgets/controls",
            "_view_module_version": "1.5.0",
            "_view_name": "HTMLView",
            "description": "",
            "description_tooltip": null,
            "layout": "IPY_MODEL_658321c84e0145aaad9ae9b5a46b5c65",
            "placeholder": "​",
            "style": "IPY_MODEL_a1648a78c73548f8a5fe76fff60b5f05",
            "value": "100%"
          }
        },
        "a9d81ce197744cb38c7f5116d264a7ca": {
          "model_module": "@jupyter-widgets/controls",
          "model_name": "FloatProgressModel",
          "model_module_version": "1.5.0",
          "state": {
            "_dom_classes": [],
            "_model_module": "@jupyter-widgets/controls",
            "_model_module_version": "1.5.0",
            "_model_name": "FloatProgressModel",
            "_view_count": null,
            "_view_module": "@jupyter-widgets/controls",
            "_view_module_version": "1.5.0",
            "_view_name": "ProgressView",
            "bar_style": "success",
            "description": "",
            "description_tooltip": null,
            "layout": "IPY_MODEL_2b26b096e8d14f34b08a10d713c1d0b8",
            "max": 19506,
            "min": 0,
            "orientation": "horizontal",
            "style": "IPY_MODEL_f4e2d6ff212c4f4a87682874b6bb6a49",
            "value": 19506
          }
        },
        "f0e77c89c8b646e4bb6c0268aa235a10": {
          "model_module": "@jupyter-widgets/controls",
          "model_name": "HTMLModel",
          "model_module_version": "1.5.0",
          "state": {
            "_dom_classes": [],
            "_model_module": "@jupyter-widgets/controls",
            "_model_module_version": "1.5.0",
            "_model_name": "HTMLModel",
            "_view_count": null,
            "_view_module": "@jupyter-widgets/controls",
            "_view_module_version": "1.5.0",
            "_view_name": "HTMLView",
            "description": "",
            "description_tooltip": null,
            "layout": "IPY_MODEL_3bfe385ba6a84172a86bb13daaa30685",
            "placeholder": "​",
            "style": "IPY_MODEL_c0e8cbcf669b48eca54f920072f92665",
            "value": " 19506/19506 [30:28&lt;00:00,  4.49it/s]"
          }
        },
        "e611990f789949ffa7220fd0659032e3": {
          "model_module": "@jupyter-widgets/base",
          "model_name": "LayoutModel",
          "model_module_version": "1.2.0",
          "state": {
            "_model_module": "@jupyter-widgets/base",
            "_model_module_version": "1.2.0",
            "_model_name": "LayoutModel",
            "_view_count": null,
            "_view_module": "@jupyter-widgets/base",
            "_view_module_version": "1.2.0",
            "_view_name": "LayoutView",
            "align_content": null,
            "align_items": null,
            "align_self": null,
            "border": null,
            "bottom": null,
            "display": null,
            "flex": null,
            "flex_flow": null,
            "grid_area": null,
            "grid_auto_columns": null,
            "grid_auto_flow": null,
            "grid_auto_rows": null,
            "grid_column": null,
            "grid_gap": null,
            "grid_row": null,
            "grid_template_areas": null,
            "grid_template_columns": null,
            "grid_template_rows": null,
            "height": null,
            "justify_content": null,
            "justify_items": null,
            "left": null,
            "margin": null,
            "max_height": null,
            "max_width": null,
            "min_height": null,
            "min_width": null,
            "object_fit": null,
            "object_position": null,
            "order": null,
            "overflow": null,
            "overflow_x": null,
            "overflow_y": null,
            "padding": null,
            "right": null,
            "top": null,
            "visibility": null,
            "width": null
          }
        },
        "658321c84e0145aaad9ae9b5a46b5c65": {
          "model_module": "@jupyter-widgets/base",
          "model_name": "LayoutModel",
          "model_module_version": "1.2.0",
          "state": {
            "_model_module": "@jupyter-widgets/base",
            "_model_module_version": "1.2.0",
            "_model_name": "LayoutModel",
            "_view_count": null,
            "_view_module": "@jupyter-widgets/base",
            "_view_module_version": "1.2.0",
            "_view_name": "LayoutView",
            "align_content": null,
            "align_items": null,
            "align_self": null,
            "border": null,
            "bottom": null,
            "display": null,
            "flex": null,
            "flex_flow": null,
            "grid_area": null,
            "grid_auto_columns": null,
            "grid_auto_flow": null,
            "grid_auto_rows": null,
            "grid_column": null,
            "grid_gap": null,
            "grid_row": null,
            "grid_template_areas": null,
            "grid_template_columns": null,
            "grid_template_rows": null,
            "height": null,
            "justify_content": null,
            "justify_items": null,
            "left": null,
            "margin": null,
            "max_height": null,
            "max_width": null,
            "min_height": null,
            "min_width": null,
            "object_fit": null,
            "object_position": null,
            "order": null,
            "overflow": null,
            "overflow_x": null,
            "overflow_y": null,
            "padding": null,
            "right": null,
            "top": null,
            "visibility": null,
            "width": null
          }
        },
        "a1648a78c73548f8a5fe76fff60b5f05": {
          "model_module": "@jupyter-widgets/controls",
          "model_name": "DescriptionStyleModel",
          "model_module_version": "1.5.0",
          "state": {
            "_model_module": "@jupyter-widgets/controls",
            "_model_module_version": "1.5.0",
            "_model_name": "DescriptionStyleModel",
            "_view_count": null,
            "_view_module": "@jupyter-widgets/base",
            "_view_module_version": "1.2.0",
            "_view_name": "StyleView",
            "description_width": ""
          }
        },
        "2b26b096e8d14f34b08a10d713c1d0b8": {
          "model_module": "@jupyter-widgets/base",
          "model_name": "LayoutModel",
          "model_module_version": "1.2.0",
          "state": {
            "_model_module": "@jupyter-widgets/base",
            "_model_module_version": "1.2.0",
            "_model_name": "LayoutModel",
            "_view_count": null,
            "_view_module": "@jupyter-widgets/base",
            "_view_module_version": "1.2.0",
            "_view_name": "LayoutView",
            "align_content": null,
            "align_items": null,
            "align_self": null,
            "border": null,
            "bottom": null,
            "display": null,
            "flex": null,
            "flex_flow": null,
            "grid_area": null,
            "grid_auto_columns": null,
            "grid_auto_flow": null,
            "grid_auto_rows": null,
            "grid_column": null,
            "grid_gap": null,
            "grid_row": null,
            "grid_template_areas": null,
            "grid_template_columns": null,
            "grid_template_rows": null,
            "height": null,
            "justify_content": null,
            "justify_items": null,
            "left": null,
            "margin": null,
            "max_height": null,
            "max_width": null,
            "min_height": null,
            "min_width": null,
            "object_fit": null,
            "object_position": null,
            "order": null,
            "overflow": null,
            "overflow_x": null,
            "overflow_y": null,
            "padding": null,
            "right": null,
            "top": null,
            "visibility": null,
            "width": null
          }
        },
        "f4e2d6ff212c4f4a87682874b6bb6a49": {
          "model_module": "@jupyter-widgets/controls",
          "model_name": "ProgressStyleModel",
          "model_module_version": "1.5.0",
          "state": {
            "_model_module": "@jupyter-widgets/controls",
            "_model_module_version": "1.5.0",
            "_model_name": "ProgressStyleModel",
            "_view_count": null,
            "_view_module": "@jupyter-widgets/base",
            "_view_module_version": "1.2.0",
            "_view_name": "StyleView",
            "bar_color": null,
            "description_width": ""
          }
        },
        "3bfe385ba6a84172a86bb13daaa30685": {
          "model_module": "@jupyter-widgets/base",
          "model_name": "LayoutModel",
          "model_module_version": "1.2.0",
          "state": {
            "_model_module": "@jupyter-widgets/base",
            "_model_module_version": "1.2.0",
            "_model_name": "LayoutModel",
            "_view_count": null,
            "_view_module": "@jupyter-widgets/base",
            "_view_module_version": "1.2.0",
            "_view_name": "LayoutView",
            "align_content": null,
            "align_items": null,
            "align_self": null,
            "border": null,
            "bottom": null,
            "display": null,
            "flex": null,
            "flex_flow": null,
            "grid_area": null,
            "grid_auto_columns": null,
            "grid_auto_flow": null,
            "grid_auto_rows": null,
            "grid_column": null,
            "grid_gap": null,
            "grid_row": null,
            "grid_template_areas": null,
            "grid_template_columns": null,
            "grid_template_rows": null,
            "height": null,
            "justify_content": null,
            "justify_items": null,
            "left": null,
            "margin": null,
            "max_height": null,
            "max_width": null,
            "min_height": null,
            "min_width": null,
            "object_fit": null,
            "object_position": null,
            "order": null,
            "overflow": null,
            "overflow_x": null,
            "overflow_y": null,
            "padding": null,
            "right": null,
            "top": null,
            "visibility": null,
            "width": null
          }
        },
        "c0e8cbcf669b48eca54f920072f92665": {
          "model_module": "@jupyter-widgets/controls",
          "model_name": "DescriptionStyleModel",
          "model_module_version": "1.5.0",
          "state": {
            "_model_module": "@jupyter-widgets/controls",
            "_model_module_version": "1.5.0",
            "_model_name": "DescriptionStyleModel",
            "_view_count": null,
            "_view_module": "@jupyter-widgets/base",
            "_view_module_version": "1.2.0",
            "_view_name": "StyleView",
            "description_width": ""
          }
        },
        "70a11c03543447739070aa5b7dc09c27": {
          "model_module": "@jupyter-widgets/controls",
          "model_name": "HBoxModel",
          "model_module_version": "1.5.0",
          "state": {
            "_dom_classes": [],
            "_model_module": "@jupyter-widgets/controls",
            "_model_module_version": "1.5.0",
            "_model_name": "HBoxModel",
            "_view_count": null,
            "_view_module": "@jupyter-widgets/controls",
            "_view_module_version": "1.5.0",
            "_view_name": "HBoxView",
            "box_style": "",
            "children": [
              "IPY_MODEL_b4123fb78dbb4a4db31752ce91addbaa",
              "IPY_MODEL_45ff638c1d7847ff9408701b25a88149",
              "IPY_MODEL_0eedffc30a9840a1bd9d10aceea78614"
            ],
            "layout": "IPY_MODEL_610d150233a0476380e44312e00b4a1d"
          }
        },
        "b4123fb78dbb4a4db31752ce91addbaa": {
          "model_module": "@jupyter-widgets/controls",
          "model_name": "HTMLModel",
          "model_module_version": "1.5.0",
          "state": {
            "_dom_classes": [],
            "_model_module": "@jupyter-widgets/controls",
            "_model_module_version": "1.5.0",
            "_model_name": "HTMLModel",
            "_view_count": null,
            "_view_module": "@jupyter-widgets/controls",
            "_view_module_version": "1.5.0",
            "_view_name": "HTMLView",
            "description": "",
            "description_tooltip": null,
            "layout": "IPY_MODEL_d56f41a6bf2e4778bb8a5360be6bdfd4",
            "placeholder": "​",
            "style": "IPY_MODEL_2e0158b073dd463e9c2c830bcf94f83c",
            "value": "100%"
          }
        },
        "45ff638c1d7847ff9408701b25a88149": {
          "model_module": "@jupyter-widgets/controls",
          "model_name": "FloatProgressModel",
          "model_module_version": "1.5.0",
          "state": {
            "_dom_classes": [],
            "_model_module": "@jupyter-widgets/controls",
            "_model_module_version": "1.5.0",
            "_model_name": "FloatProgressModel",
            "_view_count": null,
            "_view_module": "@jupyter-widgets/controls",
            "_view_module_version": "1.5.0",
            "_view_name": "ProgressView",
            "bar_style": "success",
            "description": "",
            "description_tooltip": null,
            "layout": "IPY_MODEL_f1c1f9b7d4394ad88c84b9c094fdc2e6",
            "max": 8360,
            "min": 0,
            "orientation": "horizontal",
            "style": "IPY_MODEL_58f06e3302a84360bc558b24f02fee5f",
            "value": 8360
          }
        },
        "0eedffc30a9840a1bd9d10aceea78614": {
          "model_module": "@jupyter-widgets/controls",
          "model_name": "HTMLModel",
          "model_module_version": "1.5.0",
          "state": {
            "_dom_classes": [],
            "_model_module": "@jupyter-widgets/controls",
            "_model_module_version": "1.5.0",
            "_model_name": "HTMLModel",
            "_view_count": null,
            "_view_module": "@jupyter-widgets/controls",
            "_view_module_version": "1.5.0",
            "_view_name": "HTMLView",
            "description": "",
            "description_tooltip": null,
            "layout": "IPY_MODEL_0afc4e562990416393f715da4b6953b9",
            "placeholder": "​",
            "style": "IPY_MODEL_2624d406f1a94d42994241a159ef88be",
            "value": " 8360/8360 [13:02&lt;00:00, 10.77it/s]"
          }
        },
        "610d150233a0476380e44312e00b4a1d": {
          "model_module": "@jupyter-widgets/base",
          "model_name": "LayoutModel",
          "model_module_version": "1.2.0",
          "state": {
            "_model_module": "@jupyter-widgets/base",
            "_model_module_version": "1.2.0",
            "_model_name": "LayoutModel",
            "_view_count": null,
            "_view_module": "@jupyter-widgets/base",
            "_view_module_version": "1.2.0",
            "_view_name": "LayoutView",
            "align_content": null,
            "align_items": null,
            "align_self": null,
            "border": null,
            "bottom": null,
            "display": null,
            "flex": null,
            "flex_flow": null,
            "grid_area": null,
            "grid_auto_columns": null,
            "grid_auto_flow": null,
            "grid_auto_rows": null,
            "grid_column": null,
            "grid_gap": null,
            "grid_row": null,
            "grid_template_areas": null,
            "grid_template_columns": null,
            "grid_template_rows": null,
            "height": null,
            "justify_content": null,
            "justify_items": null,
            "left": null,
            "margin": null,
            "max_height": null,
            "max_width": null,
            "min_height": null,
            "min_width": null,
            "object_fit": null,
            "object_position": null,
            "order": null,
            "overflow": null,
            "overflow_x": null,
            "overflow_y": null,
            "padding": null,
            "right": null,
            "top": null,
            "visibility": null,
            "width": null
          }
        },
        "d56f41a6bf2e4778bb8a5360be6bdfd4": {
          "model_module": "@jupyter-widgets/base",
          "model_name": "LayoutModel",
          "model_module_version": "1.2.0",
          "state": {
            "_model_module": "@jupyter-widgets/base",
            "_model_module_version": "1.2.0",
            "_model_name": "LayoutModel",
            "_view_count": null,
            "_view_module": "@jupyter-widgets/base",
            "_view_module_version": "1.2.0",
            "_view_name": "LayoutView",
            "align_content": null,
            "align_items": null,
            "align_self": null,
            "border": null,
            "bottom": null,
            "display": null,
            "flex": null,
            "flex_flow": null,
            "grid_area": null,
            "grid_auto_columns": null,
            "grid_auto_flow": null,
            "grid_auto_rows": null,
            "grid_column": null,
            "grid_gap": null,
            "grid_row": null,
            "grid_template_areas": null,
            "grid_template_columns": null,
            "grid_template_rows": null,
            "height": null,
            "justify_content": null,
            "justify_items": null,
            "left": null,
            "margin": null,
            "max_height": null,
            "max_width": null,
            "min_height": null,
            "min_width": null,
            "object_fit": null,
            "object_position": null,
            "order": null,
            "overflow": null,
            "overflow_x": null,
            "overflow_y": null,
            "padding": null,
            "right": null,
            "top": null,
            "visibility": null,
            "width": null
          }
        },
        "2e0158b073dd463e9c2c830bcf94f83c": {
          "model_module": "@jupyter-widgets/controls",
          "model_name": "DescriptionStyleModel",
          "model_module_version": "1.5.0",
          "state": {
            "_model_module": "@jupyter-widgets/controls",
            "_model_module_version": "1.5.0",
            "_model_name": "DescriptionStyleModel",
            "_view_count": null,
            "_view_module": "@jupyter-widgets/base",
            "_view_module_version": "1.2.0",
            "_view_name": "StyleView",
            "description_width": ""
          }
        },
        "f1c1f9b7d4394ad88c84b9c094fdc2e6": {
          "model_module": "@jupyter-widgets/base",
          "model_name": "LayoutModel",
          "model_module_version": "1.2.0",
          "state": {
            "_model_module": "@jupyter-widgets/base",
            "_model_module_version": "1.2.0",
            "_model_name": "LayoutModel",
            "_view_count": null,
            "_view_module": "@jupyter-widgets/base",
            "_view_module_version": "1.2.0",
            "_view_name": "LayoutView",
            "align_content": null,
            "align_items": null,
            "align_self": null,
            "border": null,
            "bottom": null,
            "display": null,
            "flex": null,
            "flex_flow": null,
            "grid_area": null,
            "grid_auto_columns": null,
            "grid_auto_flow": null,
            "grid_auto_rows": null,
            "grid_column": null,
            "grid_gap": null,
            "grid_row": null,
            "grid_template_areas": null,
            "grid_template_columns": null,
            "grid_template_rows": null,
            "height": null,
            "justify_content": null,
            "justify_items": null,
            "left": null,
            "margin": null,
            "max_height": null,
            "max_width": null,
            "min_height": null,
            "min_width": null,
            "object_fit": null,
            "object_position": null,
            "order": null,
            "overflow": null,
            "overflow_x": null,
            "overflow_y": null,
            "padding": null,
            "right": null,
            "top": null,
            "visibility": null,
            "width": null
          }
        },
        "58f06e3302a84360bc558b24f02fee5f": {
          "model_module": "@jupyter-widgets/controls",
          "model_name": "ProgressStyleModel",
          "model_module_version": "1.5.0",
          "state": {
            "_model_module": "@jupyter-widgets/controls",
            "_model_module_version": "1.5.0",
            "_model_name": "ProgressStyleModel",
            "_view_count": null,
            "_view_module": "@jupyter-widgets/base",
            "_view_module_version": "1.2.0",
            "_view_name": "StyleView",
            "bar_color": null,
            "description_width": ""
          }
        },
        "0afc4e562990416393f715da4b6953b9": {
          "model_module": "@jupyter-widgets/base",
          "model_name": "LayoutModel",
          "model_module_version": "1.2.0",
          "state": {
            "_model_module": "@jupyter-widgets/base",
            "_model_module_version": "1.2.0",
            "_model_name": "LayoutModel",
            "_view_count": null,
            "_view_module": "@jupyter-widgets/base",
            "_view_module_version": "1.2.0",
            "_view_name": "LayoutView",
            "align_content": null,
            "align_items": null,
            "align_self": null,
            "border": null,
            "bottom": null,
            "display": null,
            "flex": null,
            "flex_flow": null,
            "grid_area": null,
            "grid_auto_columns": null,
            "grid_auto_flow": null,
            "grid_auto_rows": null,
            "grid_column": null,
            "grid_gap": null,
            "grid_row": null,
            "grid_template_areas": null,
            "grid_template_columns": null,
            "grid_template_rows": null,
            "height": null,
            "justify_content": null,
            "justify_items": null,
            "left": null,
            "margin": null,
            "max_height": null,
            "max_width": null,
            "min_height": null,
            "min_width": null,
            "object_fit": null,
            "object_position": null,
            "order": null,
            "overflow": null,
            "overflow_x": null,
            "overflow_y": null,
            "padding": null,
            "right": null,
            "top": null,
            "visibility": null,
            "width": null
          }
        },
        "2624d406f1a94d42994241a159ef88be": {
          "model_module": "@jupyter-widgets/controls",
          "model_name": "DescriptionStyleModel",
          "model_module_version": "1.5.0",
          "state": {
            "_model_module": "@jupyter-widgets/controls",
            "_model_module_version": "1.5.0",
            "_model_name": "DescriptionStyleModel",
            "_view_count": null,
            "_view_module": "@jupyter-widgets/base",
            "_view_module_version": "1.2.0",
            "_view_name": "StyleView",
            "description_width": ""
          }
        },
        "3587535aa7724aceb3939fcb0870b53c": {
          "model_module": "@jupyter-widgets/controls",
          "model_name": "HBoxModel",
          "model_module_version": "1.5.0",
          "state": {
            "_dom_classes": [],
            "_model_module": "@jupyter-widgets/controls",
            "_model_module_version": "1.5.0",
            "_model_name": "HBoxModel",
            "_view_count": null,
            "_view_module": "@jupyter-widgets/controls",
            "_view_module_version": "1.5.0",
            "_view_name": "HBoxView",
            "box_style": "",
            "children": [
              "IPY_MODEL_57e475b5e42e494b85cb89988a2f5b24",
              "IPY_MODEL_68574daea4e54b97bfca78e6898055bb",
              "IPY_MODEL_b2c61e70d225419ab0a6c765ce2307fd"
            ],
            "layout": "IPY_MODEL_b0a3134e6f98484383937885dafcf7c4"
          }
        },
        "57e475b5e42e494b85cb89988a2f5b24": {
          "model_module": "@jupyter-widgets/controls",
          "model_name": "HTMLModel",
          "model_module_version": "1.5.0",
          "state": {
            "_dom_classes": [],
            "_model_module": "@jupyter-widgets/controls",
            "_model_module_version": "1.5.0",
            "_model_name": "HTMLModel",
            "_view_count": null,
            "_view_module": "@jupyter-widgets/controls",
            "_view_module_version": "1.5.0",
            "_view_name": "HTMLView",
            "description": "",
            "description_tooltip": null,
            "layout": "IPY_MODEL_3078a5b4ff134831bbfcd684c9f6a532",
            "placeholder": "​",
            "style": "IPY_MODEL_c76c5865f95e4b72ba41f9f3d74df5fd",
            "value": "100%"
          }
        },
        "68574daea4e54b97bfca78e6898055bb": {
          "model_module": "@jupyter-widgets/controls",
          "model_name": "FloatProgressModel",
          "model_module_version": "1.5.0",
          "state": {
            "_dom_classes": [],
            "_model_module": "@jupyter-widgets/controls",
            "_model_module_version": "1.5.0",
            "_model_name": "FloatProgressModel",
            "_view_count": null,
            "_view_module": "@jupyter-widgets/controls",
            "_view_module_version": "1.5.0",
            "_view_name": "ProgressView",
            "bar_style": "success",
            "description": "",
            "description_tooltip": null,
            "layout": "IPY_MODEL_563bb8798d224ff8a677214f314fb676",
            "max": 150,
            "min": 0,
            "orientation": "horizontal",
            "style": "IPY_MODEL_c7e72d2ddb8d4849b08aaeb2a2e41d5e",
            "value": 150
          }
        },
        "b2c61e70d225419ab0a6c765ce2307fd": {
          "model_module": "@jupyter-widgets/controls",
          "model_name": "HTMLModel",
          "model_module_version": "1.5.0",
          "state": {
            "_dom_classes": [],
            "_model_module": "@jupyter-widgets/controls",
            "_model_module_version": "1.5.0",
            "_model_name": "HTMLModel",
            "_view_count": null,
            "_view_module": "@jupyter-widgets/controls",
            "_view_module_version": "1.5.0",
            "_view_name": "HTMLView",
            "description": "",
            "description_tooltip": null,
            "layout": "IPY_MODEL_f8ce774392cb48fd871ea2873a663721",
            "placeholder": "​",
            "style": "IPY_MODEL_bbfa2c798288435aaa1364f1d289e604",
            "value": " 150/150 [4:40:44&lt;00:00, 112.50s/it]"
          }
        },
        "b0a3134e6f98484383937885dafcf7c4": {
          "model_module": "@jupyter-widgets/base",
          "model_name": "LayoutModel",
          "model_module_version": "1.2.0",
          "state": {
            "_model_module": "@jupyter-widgets/base",
            "_model_module_version": "1.2.0",
            "_model_name": "LayoutModel",
            "_view_count": null,
            "_view_module": "@jupyter-widgets/base",
            "_view_module_version": "1.2.0",
            "_view_name": "LayoutView",
            "align_content": null,
            "align_items": null,
            "align_self": null,
            "border": null,
            "bottom": null,
            "display": null,
            "flex": null,
            "flex_flow": null,
            "grid_area": null,
            "grid_auto_columns": null,
            "grid_auto_flow": null,
            "grid_auto_rows": null,
            "grid_column": null,
            "grid_gap": null,
            "grid_row": null,
            "grid_template_areas": null,
            "grid_template_columns": null,
            "grid_template_rows": null,
            "height": null,
            "justify_content": null,
            "justify_items": null,
            "left": null,
            "margin": null,
            "max_height": null,
            "max_width": null,
            "min_height": null,
            "min_width": null,
            "object_fit": null,
            "object_position": null,
            "order": null,
            "overflow": null,
            "overflow_x": null,
            "overflow_y": null,
            "padding": null,
            "right": null,
            "top": null,
            "visibility": null,
            "width": null
          }
        },
        "3078a5b4ff134831bbfcd684c9f6a532": {
          "model_module": "@jupyter-widgets/base",
          "model_name": "LayoutModel",
          "model_module_version": "1.2.0",
          "state": {
            "_model_module": "@jupyter-widgets/base",
            "_model_module_version": "1.2.0",
            "_model_name": "LayoutModel",
            "_view_count": null,
            "_view_module": "@jupyter-widgets/base",
            "_view_module_version": "1.2.0",
            "_view_name": "LayoutView",
            "align_content": null,
            "align_items": null,
            "align_self": null,
            "border": null,
            "bottom": null,
            "display": null,
            "flex": null,
            "flex_flow": null,
            "grid_area": null,
            "grid_auto_columns": null,
            "grid_auto_flow": null,
            "grid_auto_rows": null,
            "grid_column": null,
            "grid_gap": null,
            "grid_row": null,
            "grid_template_areas": null,
            "grid_template_columns": null,
            "grid_template_rows": null,
            "height": null,
            "justify_content": null,
            "justify_items": null,
            "left": null,
            "margin": null,
            "max_height": null,
            "max_width": null,
            "min_height": null,
            "min_width": null,
            "object_fit": null,
            "object_position": null,
            "order": null,
            "overflow": null,
            "overflow_x": null,
            "overflow_y": null,
            "padding": null,
            "right": null,
            "top": null,
            "visibility": null,
            "width": null
          }
        },
        "c76c5865f95e4b72ba41f9f3d74df5fd": {
          "model_module": "@jupyter-widgets/controls",
          "model_name": "DescriptionStyleModel",
          "model_module_version": "1.5.0",
          "state": {
            "_model_module": "@jupyter-widgets/controls",
            "_model_module_version": "1.5.0",
            "_model_name": "DescriptionStyleModel",
            "_view_count": null,
            "_view_module": "@jupyter-widgets/base",
            "_view_module_version": "1.2.0",
            "_view_name": "StyleView",
            "description_width": ""
          }
        },
        "563bb8798d224ff8a677214f314fb676": {
          "model_module": "@jupyter-widgets/base",
          "model_name": "LayoutModel",
          "model_module_version": "1.2.0",
          "state": {
            "_model_module": "@jupyter-widgets/base",
            "_model_module_version": "1.2.0",
            "_model_name": "LayoutModel",
            "_view_count": null,
            "_view_module": "@jupyter-widgets/base",
            "_view_module_version": "1.2.0",
            "_view_name": "LayoutView",
            "align_content": null,
            "align_items": null,
            "align_self": null,
            "border": null,
            "bottom": null,
            "display": null,
            "flex": null,
            "flex_flow": null,
            "grid_area": null,
            "grid_auto_columns": null,
            "grid_auto_flow": null,
            "grid_auto_rows": null,
            "grid_column": null,
            "grid_gap": null,
            "grid_row": null,
            "grid_template_areas": null,
            "grid_template_columns": null,
            "grid_template_rows": null,
            "height": null,
            "justify_content": null,
            "justify_items": null,
            "left": null,
            "margin": null,
            "max_height": null,
            "max_width": null,
            "min_height": null,
            "min_width": null,
            "object_fit": null,
            "object_position": null,
            "order": null,
            "overflow": null,
            "overflow_x": null,
            "overflow_y": null,
            "padding": null,
            "right": null,
            "top": null,
            "visibility": null,
            "width": null
          }
        },
        "c7e72d2ddb8d4849b08aaeb2a2e41d5e": {
          "model_module": "@jupyter-widgets/controls",
          "model_name": "ProgressStyleModel",
          "model_module_version": "1.5.0",
          "state": {
            "_model_module": "@jupyter-widgets/controls",
            "_model_module_version": "1.5.0",
            "_model_name": "ProgressStyleModel",
            "_view_count": null,
            "_view_module": "@jupyter-widgets/base",
            "_view_module_version": "1.2.0",
            "_view_name": "StyleView",
            "bar_color": null,
            "description_width": ""
          }
        },
        "f8ce774392cb48fd871ea2873a663721": {
          "model_module": "@jupyter-widgets/base",
          "model_name": "LayoutModel",
          "model_module_version": "1.2.0",
          "state": {
            "_model_module": "@jupyter-widgets/base",
            "_model_module_version": "1.2.0",
            "_model_name": "LayoutModel",
            "_view_count": null,
            "_view_module": "@jupyter-widgets/base",
            "_view_module_version": "1.2.0",
            "_view_name": "LayoutView",
            "align_content": null,
            "align_items": null,
            "align_self": null,
            "border": null,
            "bottom": null,
            "display": null,
            "flex": null,
            "flex_flow": null,
            "grid_area": null,
            "grid_auto_columns": null,
            "grid_auto_flow": null,
            "grid_auto_rows": null,
            "grid_column": null,
            "grid_gap": null,
            "grid_row": null,
            "grid_template_areas": null,
            "grid_template_columns": null,
            "grid_template_rows": null,
            "height": null,
            "justify_content": null,
            "justify_items": null,
            "left": null,
            "margin": null,
            "max_height": null,
            "max_width": null,
            "min_height": null,
            "min_width": null,
            "object_fit": null,
            "object_position": null,
            "order": null,
            "overflow": null,
            "overflow_x": null,
            "overflow_y": null,
            "padding": null,
            "right": null,
            "top": null,
            "visibility": null,
            "width": null
          }
        },
        "bbfa2c798288435aaa1364f1d289e604": {
          "model_module": "@jupyter-widgets/controls",
          "model_name": "DescriptionStyleModel",
          "model_module_version": "1.5.0",
          "state": {
            "_model_module": "@jupyter-widgets/controls",
            "_model_module_version": "1.5.0",
            "_model_name": "DescriptionStyleModel",
            "_view_count": null,
            "_view_module": "@jupyter-widgets/base",
            "_view_module_version": "1.2.0",
            "_view_name": "StyleView",
            "description_width": ""
          }
        },
        "f9bb1f6620c14f0ca8fbb9f1fd430801": {
          "model_module": "@jupyter-widgets/controls",
          "model_name": "HBoxModel",
          "model_module_version": "1.5.0",
          "state": {
            "_dom_classes": [],
            "_model_module": "@jupyter-widgets/controls",
            "_model_module_version": "1.5.0",
            "_model_name": "HBoxModel",
            "_view_count": null,
            "_view_module": "@jupyter-widgets/controls",
            "_view_module_version": "1.5.0",
            "_view_name": "HBoxView",
            "box_style": "",
            "children": [
              "IPY_MODEL_b8489130d29b4d5ba80787063196124e",
              "IPY_MODEL_c79d4010cccb4e2caf5de6004e1a49ed",
              "IPY_MODEL_7fc209cb731c44a9a2c5ce367e6a9425"
            ],
            "layout": "IPY_MODEL_f6c1beb3f2d548eaaec42b7a1652ecc9"
          }
        },
        "b8489130d29b4d5ba80787063196124e": {
          "model_module": "@jupyter-widgets/controls",
          "model_name": "HTMLModel",
          "model_module_version": "1.5.0",
          "state": {
            "_dom_classes": [],
            "_model_module": "@jupyter-widgets/controls",
            "_model_module_version": "1.5.0",
            "_model_name": "HTMLModel",
            "_view_count": null,
            "_view_module": "@jupyter-widgets/controls",
            "_view_module_version": "1.5.0",
            "_view_name": "HTMLView",
            "description": "",
            "description_tooltip": null,
            "layout": "IPY_MODEL_5defb896aafa480b9a78b85b99926996",
            "placeholder": "​",
            "style": "IPY_MODEL_c11b9bc2c5da4abeb4778d7acb5f90bd",
            "value": "100%"
          }
        },
        "c79d4010cccb4e2caf5de6004e1a49ed": {
          "model_module": "@jupyter-widgets/controls",
          "model_name": "FloatProgressModel",
          "model_module_version": "1.5.0",
          "state": {
            "_dom_classes": [],
            "_model_module": "@jupyter-widgets/controls",
            "_model_module_version": "1.5.0",
            "_model_name": "FloatProgressModel",
            "_view_count": null,
            "_view_module": "@jupyter-widgets/controls",
            "_view_module_version": "1.5.0",
            "_view_name": "ProgressView",
            "bar_style": "success",
            "description": "",
            "description_tooltip": null,
            "layout": "IPY_MODEL_f8a1c175ce154ca3808a03da44176fd8",
            "max": 19506,
            "min": 0,
            "orientation": "horizontal",
            "style": "IPY_MODEL_9b1ac35036564f728b4c269788d54786",
            "value": 19506
          }
        },
        "7fc209cb731c44a9a2c5ce367e6a9425": {
          "model_module": "@jupyter-widgets/controls",
          "model_name": "HTMLModel",
          "model_module_version": "1.5.0",
          "state": {
            "_dom_classes": [],
            "_model_module": "@jupyter-widgets/controls",
            "_model_module_version": "1.5.0",
            "_model_name": "HTMLModel",
            "_view_count": null,
            "_view_module": "@jupyter-widgets/controls",
            "_view_module_version": "1.5.0",
            "_view_name": "HTMLView",
            "description": "",
            "description_tooltip": null,
            "layout": "IPY_MODEL_819f05e6146149e2a9366925da5e9ba1",
            "placeholder": "​",
            "style": "IPY_MODEL_5bf452fa79d34129a92a8c878cf8c9ad",
            "value": " 19506/19506 [30:41&lt;00:00,  6.12it/s]"
          }
        },
        "f6c1beb3f2d548eaaec42b7a1652ecc9": {
          "model_module": "@jupyter-widgets/base",
          "model_name": "LayoutModel",
          "model_module_version": "1.2.0",
          "state": {
            "_model_module": "@jupyter-widgets/base",
            "_model_module_version": "1.2.0",
            "_model_name": "LayoutModel",
            "_view_count": null,
            "_view_module": "@jupyter-widgets/base",
            "_view_module_version": "1.2.0",
            "_view_name": "LayoutView",
            "align_content": null,
            "align_items": null,
            "align_self": null,
            "border": null,
            "bottom": null,
            "display": null,
            "flex": null,
            "flex_flow": null,
            "grid_area": null,
            "grid_auto_columns": null,
            "grid_auto_flow": null,
            "grid_auto_rows": null,
            "grid_column": null,
            "grid_gap": null,
            "grid_row": null,
            "grid_template_areas": null,
            "grid_template_columns": null,
            "grid_template_rows": null,
            "height": null,
            "justify_content": null,
            "justify_items": null,
            "left": null,
            "margin": null,
            "max_height": null,
            "max_width": null,
            "min_height": null,
            "min_width": null,
            "object_fit": null,
            "object_position": null,
            "order": null,
            "overflow": null,
            "overflow_x": null,
            "overflow_y": null,
            "padding": null,
            "right": null,
            "top": null,
            "visibility": null,
            "width": null
          }
        },
        "5defb896aafa480b9a78b85b99926996": {
          "model_module": "@jupyter-widgets/base",
          "model_name": "LayoutModel",
          "model_module_version": "1.2.0",
          "state": {
            "_model_module": "@jupyter-widgets/base",
            "_model_module_version": "1.2.0",
            "_model_name": "LayoutModel",
            "_view_count": null,
            "_view_module": "@jupyter-widgets/base",
            "_view_module_version": "1.2.0",
            "_view_name": "LayoutView",
            "align_content": null,
            "align_items": null,
            "align_self": null,
            "border": null,
            "bottom": null,
            "display": null,
            "flex": null,
            "flex_flow": null,
            "grid_area": null,
            "grid_auto_columns": null,
            "grid_auto_flow": null,
            "grid_auto_rows": null,
            "grid_column": null,
            "grid_gap": null,
            "grid_row": null,
            "grid_template_areas": null,
            "grid_template_columns": null,
            "grid_template_rows": null,
            "height": null,
            "justify_content": null,
            "justify_items": null,
            "left": null,
            "margin": null,
            "max_height": null,
            "max_width": null,
            "min_height": null,
            "min_width": null,
            "object_fit": null,
            "object_position": null,
            "order": null,
            "overflow": null,
            "overflow_x": null,
            "overflow_y": null,
            "padding": null,
            "right": null,
            "top": null,
            "visibility": null,
            "width": null
          }
        },
        "c11b9bc2c5da4abeb4778d7acb5f90bd": {
          "model_module": "@jupyter-widgets/controls",
          "model_name": "DescriptionStyleModel",
          "model_module_version": "1.5.0",
          "state": {
            "_model_module": "@jupyter-widgets/controls",
            "_model_module_version": "1.5.0",
            "_model_name": "DescriptionStyleModel",
            "_view_count": null,
            "_view_module": "@jupyter-widgets/base",
            "_view_module_version": "1.2.0",
            "_view_name": "StyleView",
            "description_width": ""
          }
        },
        "f8a1c175ce154ca3808a03da44176fd8": {
          "model_module": "@jupyter-widgets/base",
          "model_name": "LayoutModel",
          "model_module_version": "1.2.0",
          "state": {
            "_model_module": "@jupyter-widgets/base",
            "_model_module_version": "1.2.0",
            "_model_name": "LayoutModel",
            "_view_count": null,
            "_view_module": "@jupyter-widgets/base",
            "_view_module_version": "1.2.0",
            "_view_name": "LayoutView",
            "align_content": null,
            "align_items": null,
            "align_self": null,
            "border": null,
            "bottom": null,
            "display": null,
            "flex": null,
            "flex_flow": null,
            "grid_area": null,
            "grid_auto_columns": null,
            "grid_auto_flow": null,
            "grid_auto_rows": null,
            "grid_column": null,
            "grid_gap": null,
            "grid_row": null,
            "grid_template_areas": null,
            "grid_template_columns": null,
            "grid_template_rows": null,
            "height": null,
            "justify_content": null,
            "justify_items": null,
            "left": null,
            "margin": null,
            "max_height": null,
            "max_width": null,
            "min_height": null,
            "min_width": null,
            "object_fit": null,
            "object_position": null,
            "order": null,
            "overflow": null,
            "overflow_x": null,
            "overflow_y": null,
            "padding": null,
            "right": null,
            "top": null,
            "visibility": null,
            "width": null
          }
        },
        "9b1ac35036564f728b4c269788d54786": {
          "model_module": "@jupyter-widgets/controls",
          "model_name": "ProgressStyleModel",
          "model_module_version": "1.5.0",
          "state": {
            "_model_module": "@jupyter-widgets/controls",
            "_model_module_version": "1.5.0",
            "_model_name": "ProgressStyleModel",
            "_view_count": null,
            "_view_module": "@jupyter-widgets/base",
            "_view_module_version": "1.2.0",
            "_view_name": "StyleView",
            "bar_color": null,
            "description_width": ""
          }
        },
        "819f05e6146149e2a9366925da5e9ba1": {
          "model_module": "@jupyter-widgets/base",
          "model_name": "LayoutModel",
          "model_module_version": "1.2.0",
          "state": {
            "_model_module": "@jupyter-widgets/base",
            "_model_module_version": "1.2.0",
            "_model_name": "LayoutModel",
            "_view_count": null,
            "_view_module": "@jupyter-widgets/base",
            "_view_module_version": "1.2.0",
            "_view_name": "LayoutView",
            "align_content": null,
            "align_items": null,
            "align_self": null,
            "border": null,
            "bottom": null,
            "display": null,
            "flex": null,
            "flex_flow": null,
            "grid_area": null,
            "grid_auto_columns": null,
            "grid_auto_flow": null,
            "grid_auto_rows": null,
            "grid_column": null,
            "grid_gap": null,
            "grid_row": null,
            "grid_template_areas": null,
            "grid_template_columns": null,
            "grid_template_rows": null,
            "height": null,
            "justify_content": null,
            "justify_items": null,
            "left": null,
            "margin": null,
            "max_height": null,
            "max_width": null,
            "min_height": null,
            "min_width": null,
            "object_fit": null,
            "object_position": null,
            "order": null,
            "overflow": null,
            "overflow_x": null,
            "overflow_y": null,
            "padding": null,
            "right": null,
            "top": null,
            "visibility": null,
            "width": null
          }
        },
        "5bf452fa79d34129a92a8c878cf8c9ad": {
          "model_module": "@jupyter-widgets/controls",
          "model_name": "DescriptionStyleModel",
          "model_module_version": "1.5.0",
          "state": {
            "_model_module": "@jupyter-widgets/controls",
            "_model_module_version": "1.5.0",
            "_model_name": "DescriptionStyleModel",
            "_view_count": null,
            "_view_module": "@jupyter-widgets/base",
            "_view_module_version": "1.2.0",
            "_view_name": "StyleView",
            "description_width": ""
          }
        },
        "317860a6ab7444b1920150a9fe6143dd": {
          "model_module": "@jupyter-widgets/controls",
          "model_name": "HBoxModel",
          "model_module_version": "1.5.0",
          "state": {
            "_dom_classes": [],
            "_model_module": "@jupyter-widgets/controls",
            "_model_module_version": "1.5.0",
            "_model_name": "HBoxModel",
            "_view_count": null,
            "_view_module": "@jupyter-widgets/controls",
            "_view_module_version": "1.5.0",
            "_view_name": "HBoxView",
            "box_style": "",
            "children": [
              "IPY_MODEL_48951d83da2948f49e337106309ba6cc",
              "IPY_MODEL_221fdd7f9c46426b9a31ce4f9aec2ec5",
              "IPY_MODEL_53a7a7d614544742a973621faa287413"
            ],
            "layout": "IPY_MODEL_4e61c74b7b31452aa44852419711732d"
          }
        },
        "48951d83da2948f49e337106309ba6cc": {
          "model_module": "@jupyter-widgets/controls",
          "model_name": "HTMLModel",
          "model_module_version": "1.5.0",
          "state": {
            "_dom_classes": [],
            "_model_module": "@jupyter-widgets/controls",
            "_model_module_version": "1.5.0",
            "_model_name": "HTMLModel",
            "_view_count": null,
            "_view_module": "@jupyter-widgets/controls",
            "_view_module_version": "1.5.0",
            "_view_name": "HTMLView",
            "description": "",
            "description_tooltip": null,
            "layout": "IPY_MODEL_91dc6c27b49b4ef5b69f1d0341485d26",
            "placeholder": "​",
            "style": "IPY_MODEL_ef49b477ead14116a3dc957227f7be92",
            "value": "100%"
          }
        },
        "221fdd7f9c46426b9a31ce4f9aec2ec5": {
          "model_module": "@jupyter-widgets/controls",
          "model_name": "FloatProgressModel",
          "model_module_version": "1.5.0",
          "state": {
            "_dom_classes": [],
            "_model_module": "@jupyter-widgets/controls",
            "_model_module_version": "1.5.0",
            "_model_name": "FloatProgressModel",
            "_view_count": null,
            "_view_module": "@jupyter-widgets/controls",
            "_view_module_version": "1.5.0",
            "_view_name": "ProgressView",
            "bar_style": "success",
            "description": "",
            "description_tooltip": null,
            "layout": "IPY_MODEL_96f75717e0f749299528a2a6137fbad9",
            "max": 8360,
            "min": 0,
            "orientation": "horizontal",
            "style": "IPY_MODEL_622a748a95dd4e94bc6a9faa946fadec",
            "value": 8360
          }
        },
        "53a7a7d614544742a973621faa287413": {
          "model_module": "@jupyter-widgets/controls",
          "model_name": "HTMLModel",
          "model_module_version": "1.5.0",
          "state": {
            "_dom_classes": [],
            "_model_module": "@jupyter-widgets/controls",
            "_model_module_version": "1.5.0",
            "_model_name": "HTMLModel",
            "_view_count": null,
            "_view_module": "@jupyter-widgets/controls",
            "_view_module_version": "1.5.0",
            "_view_name": "HTMLView",
            "description": "",
            "description_tooltip": null,
            "layout": "IPY_MODEL_b8449830d18845aa80f8b0e0f7b8c255",
            "placeholder": "​",
            "style": "IPY_MODEL_1c1a16332e7f4f31915a4fadabe47efc",
            "value": " 8360/8360 [13:07&lt;00:00, 10.71it/s]"
          }
        },
        "4e61c74b7b31452aa44852419711732d": {
          "model_module": "@jupyter-widgets/base",
          "model_name": "LayoutModel",
          "model_module_version": "1.2.0",
          "state": {
            "_model_module": "@jupyter-widgets/base",
            "_model_module_version": "1.2.0",
            "_model_name": "LayoutModel",
            "_view_count": null,
            "_view_module": "@jupyter-widgets/base",
            "_view_module_version": "1.2.0",
            "_view_name": "LayoutView",
            "align_content": null,
            "align_items": null,
            "align_self": null,
            "border": null,
            "bottom": null,
            "display": null,
            "flex": null,
            "flex_flow": null,
            "grid_area": null,
            "grid_auto_columns": null,
            "grid_auto_flow": null,
            "grid_auto_rows": null,
            "grid_column": null,
            "grid_gap": null,
            "grid_row": null,
            "grid_template_areas": null,
            "grid_template_columns": null,
            "grid_template_rows": null,
            "height": null,
            "justify_content": null,
            "justify_items": null,
            "left": null,
            "margin": null,
            "max_height": null,
            "max_width": null,
            "min_height": null,
            "min_width": null,
            "object_fit": null,
            "object_position": null,
            "order": null,
            "overflow": null,
            "overflow_x": null,
            "overflow_y": null,
            "padding": null,
            "right": null,
            "top": null,
            "visibility": null,
            "width": null
          }
        },
        "91dc6c27b49b4ef5b69f1d0341485d26": {
          "model_module": "@jupyter-widgets/base",
          "model_name": "LayoutModel",
          "model_module_version": "1.2.0",
          "state": {
            "_model_module": "@jupyter-widgets/base",
            "_model_module_version": "1.2.0",
            "_model_name": "LayoutModel",
            "_view_count": null,
            "_view_module": "@jupyter-widgets/base",
            "_view_module_version": "1.2.0",
            "_view_name": "LayoutView",
            "align_content": null,
            "align_items": null,
            "align_self": null,
            "border": null,
            "bottom": null,
            "display": null,
            "flex": null,
            "flex_flow": null,
            "grid_area": null,
            "grid_auto_columns": null,
            "grid_auto_flow": null,
            "grid_auto_rows": null,
            "grid_column": null,
            "grid_gap": null,
            "grid_row": null,
            "grid_template_areas": null,
            "grid_template_columns": null,
            "grid_template_rows": null,
            "height": null,
            "justify_content": null,
            "justify_items": null,
            "left": null,
            "margin": null,
            "max_height": null,
            "max_width": null,
            "min_height": null,
            "min_width": null,
            "object_fit": null,
            "object_position": null,
            "order": null,
            "overflow": null,
            "overflow_x": null,
            "overflow_y": null,
            "padding": null,
            "right": null,
            "top": null,
            "visibility": null,
            "width": null
          }
        },
        "ef49b477ead14116a3dc957227f7be92": {
          "model_module": "@jupyter-widgets/controls",
          "model_name": "DescriptionStyleModel",
          "model_module_version": "1.5.0",
          "state": {
            "_model_module": "@jupyter-widgets/controls",
            "_model_module_version": "1.5.0",
            "_model_name": "DescriptionStyleModel",
            "_view_count": null,
            "_view_module": "@jupyter-widgets/base",
            "_view_module_version": "1.2.0",
            "_view_name": "StyleView",
            "description_width": ""
          }
        },
        "96f75717e0f749299528a2a6137fbad9": {
          "model_module": "@jupyter-widgets/base",
          "model_name": "LayoutModel",
          "model_module_version": "1.2.0",
          "state": {
            "_model_module": "@jupyter-widgets/base",
            "_model_module_version": "1.2.0",
            "_model_name": "LayoutModel",
            "_view_count": null,
            "_view_module": "@jupyter-widgets/base",
            "_view_module_version": "1.2.0",
            "_view_name": "LayoutView",
            "align_content": null,
            "align_items": null,
            "align_self": null,
            "border": null,
            "bottom": null,
            "display": null,
            "flex": null,
            "flex_flow": null,
            "grid_area": null,
            "grid_auto_columns": null,
            "grid_auto_flow": null,
            "grid_auto_rows": null,
            "grid_column": null,
            "grid_gap": null,
            "grid_row": null,
            "grid_template_areas": null,
            "grid_template_columns": null,
            "grid_template_rows": null,
            "height": null,
            "justify_content": null,
            "justify_items": null,
            "left": null,
            "margin": null,
            "max_height": null,
            "max_width": null,
            "min_height": null,
            "min_width": null,
            "object_fit": null,
            "object_position": null,
            "order": null,
            "overflow": null,
            "overflow_x": null,
            "overflow_y": null,
            "padding": null,
            "right": null,
            "top": null,
            "visibility": null,
            "width": null
          }
        },
        "622a748a95dd4e94bc6a9faa946fadec": {
          "model_module": "@jupyter-widgets/controls",
          "model_name": "ProgressStyleModel",
          "model_module_version": "1.5.0",
          "state": {
            "_model_module": "@jupyter-widgets/controls",
            "_model_module_version": "1.5.0",
            "_model_name": "ProgressStyleModel",
            "_view_count": null,
            "_view_module": "@jupyter-widgets/base",
            "_view_module_version": "1.2.0",
            "_view_name": "StyleView",
            "bar_color": null,
            "description_width": ""
          }
        },
        "b8449830d18845aa80f8b0e0f7b8c255": {
          "model_module": "@jupyter-widgets/base",
          "model_name": "LayoutModel",
          "model_module_version": "1.2.0",
          "state": {
            "_model_module": "@jupyter-widgets/base",
            "_model_module_version": "1.2.0",
            "_model_name": "LayoutModel",
            "_view_count": null,
            "_view_module": "@jupyter-widgets/base",
            "_view_module_version": "1.2.0",
            "_view_name": "LayoutView",
            "align_content": null,
            "align_items": null,
            "align_self": null,
            "border": null,
            "bottom": null,
            "display": null,
            "flex": null,
            "flex_flow": null,
            "grid_area": null,
            "grid_auto_columns": null,
            "grid_auto_flow": null,
            "grid_auto_rows": null,
            "grid_column": null,
            "grid_gap": null,
            "grid_row": null,
            "grid_template_areas": null,
            "grid_template_columns": null,
            "grid_template_rows": null,
            "height": null,
            "justify_content": null,
            "justify_items": null,
            "left": null,
            "margin": null,
            "max_height": null,
            "max_width": null,
            "min_height": null,
            "min_width": null,
            "object_fit": null,
            "object_position": null,
            "order": null,
            "overflow": null,
            "overflow_x": null,
            "overflow_y": null,
            "padding": null,
            "right": null,
            "top": null,
            "visibility": null,
            "width": null
          }
        },
        "1c1a16332e7f4f31915a4fadabe47efc": {
          "model_module": "@jupyter-widgets/controls",
          "model_name": "DescriptionStyleModel",
          "model_module_version": "1.5.0",
          "state": {
            "_model_module": "@jupyter-widgets/controls",
            "_model_module_version": "1.5.0",
            "_model_name": "DescriptionStyleModel",
            "_view_count": null,
            "_view_module": "@jupyter-widgets/base",
            "_view_module_version": "1.2.0",
            "_view_name": "StyleView",
            "description_width": ""
          }
        }
      }
    }
  },
  "nbformat": 4,
  "nbformat_minor": 5
}