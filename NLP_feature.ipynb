{
 "cells": [
  {
   "cell_type": "markdown",
   "id": "b703cd00",
   "metadata": {},
   "source": [
    "## Description\n",
    "This feature is based on Transformers and the final interaction with it is as follows:\n",
    "- The text is fed to the input\n",
    "- Text preprocessing takes place\n",
    "- Text tokenization\n",
    "- Inference using Transformer\n",
    "- Calculating cosine distances to nearest (in latent space) game descriptions / Finding nearest neighbors\n",
    "- Sorting and displaying the top of recommended games matching the user's description"
   ]
  },
  {
   "cell_type": "code",
   "execution_count": null,
   "id": "238ad79e",
   "metadata": {},
   "outputs": [],
   "source": [
    "from transformer import Au"
   ]
  }
 ],
 "metadata": {
  "kernelspec": {
   "display_name": "Python 3 (ipykernel)",
   "language": "python",
   "name": "python3"
  },
  "language_info": {
   "codemirror_mode": {
    "name": "ipython",
    "version": 3
   },
   "file_extension": ".py",
   "mimetype": "text/x-python",
   "name": "python",
   "nbconvert_exporter": "python",
   "pygments_lexer": "ipython3",
   "version": "3.10.6"
  }
 },
 "nbformat": 4,
 "nbformat_minor": 5
}
