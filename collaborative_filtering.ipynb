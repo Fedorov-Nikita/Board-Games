{
 "cells": [
  {
   "cell_type": "markdown",
   "id": "b7b955a4",
   "metadata": {},
   "source": [
    "## Import libs"
   ]
  },
  {
   "cell_type": "code",
   "execution_count": 1,
   "id": "8ead683d",
   "metadata": {},
   "outputs": [],
   "source": [
    "import pandas as pd\n",
    "import numpy as np\n",
    "\n",
    "from surprise import KNNWithMeans, KNNBasic\n",
    "from surprise import Dataset\n",
    "from surprise import accuracy\n",
    "from surprise import Reader\n",
    "from surprise.model_selection import train_test_split"
   ]
  },
  {
   "cell_type": "markdown",
   "id": "3e11ad00",
   "metadata": {},
   "source": [
    "## Import data"
   ]
  },
  {
   "cell_type": "code",
   "execution_count": 8,
   "id": "6865d5c2",
   "metadata": {},
   "outputs": [],
   "source": [
    "bg = pd.read_feather('../Board-Game-Scraper/bgg_boardgames.feather')\n",
    "ratings = pd.read_feather('./data/full/bgg_ratings_full.feather')\n",
    "bg.boardgame_id = bg.boardgame_id.astype('int')\n",
    "ratings = ratings[['nickname', 'boardgame_id', 'rating']].merge(bg[['boardgame_id', 'title']], \n",
    "                                                                on='boardgame_id', how='inner')[['nickname', \n",
    "                                                                                       'title', 'rating']]"
   ]
  },
  {
   "cell_type": "code",
   "execution_count": 50,
   "id": "550b3739",
   "metadata": {},
   "outputs": [
    {
     "data": {
      "text/html": [
       "<div>\n",
       "<style scoped>\n",
       "    .dataframe tbody tr th:only-of-type {\n",
       "        vertical-align: middle;\n",
       "    }\n",
       "\n",
       "    .dataframe tbody tr th {\n",
       "        vertical-align: top;\n",
       "    }\n",
       "\n",
       "    .dataframe thead th {\n",
       "        text-align: right;\n",
       "    }\n",
       "</style>\n",
       "<table border=\"1\" class=\"dataframe\">\n",
       "  <thead>\n",
       "    <tr style=\"text-align: right;\">\n",
       "      <th></th>\n",
       "      <th>nickname</th>\n",
       "      <th>title</th>\n",
       "      <th>rating</th>\n",
       "    </tr>\n",
       "  </thead>\n",
       "  <tbody>\n",
       "    <tr>\n",
       "      <th>0</th>\n",
       "      <td>DiVo1975</td>\n",
       "      <td>Anachrony</td>\n",
       "      <td>9.0</td>\n",
       "    </tr>\n",
       "    <tr>\n",
       "      <th>1</th>\n",
       "      <td>ispeakmath</td>\n",
       "      <td>Anachrony</td>\n",
       "      <td>9.0</td>\n",
       "    </tr>\n",
       "    <tr>\n",
       "      <th>2</th>\n",
       "      <td>ahhdrjones</td>\n",
       "      <td>Anachrony</td>\n",
       "      <td>7.0</td>\n",
       "    </tr>\n",
       "    <tr>\n",
       "      <th>3</th>\n",
       "      <td>CowStriker</td>\n",
       "      <td>Anachrony</td>\n",
       "      <td>8.0</td>\n",
       "    </tr>\n",
       "    <tr>\n",
       "      <th>4</th>\n",
       "      <td>BrianNeuls</td>\n",
       "      <td>Anachrony</td>\n",
       "      <td>7.5</td>\n",
       "    </tr>\n",
       "  </tbody>\n",
       "</table>\n",
       "</div>"
      ],
      "text/plain": [
       "     nickname      title  rating\n",
       "0    DiVo1975  Anachrony     9.0\n",
       "1  ispeakmath  Anachrony     9.0\n",
       "2  ahhdrjones  Anachrony     7.0\n",
       "3  CowStriker  Anachrony     8.0\n",
       "4  BrianNeuls  Anachrony     7.5"
      ]
     },
     "execution_count": 50,
     "metadata": {},
     "output_type": "execute_result"
    }
   ],
   "source": [
    "dataset = pd.DataFrame({\n",
    "    'nickname': ratings.nickname,\n",
    "    'title': ratings.title,\n",
    "    'rating': ratings.rating\n",
    "})\n",
    "dataset.head()"
   ]
  },
  {
   "cell_type": "code",
   "execution_count": 52,
   "id": "820f455e",
   "metadata": {},
   "outputs": [
    {
     "data": {
      "text/plain": [
       "'Number of ratings below 0.5: 19'"
      ]
     },
     "execution_count": 52,
     "metadata": {},
     "output_type": "execute_result"
    }
   ],
   "source": [
    "f'Number of ratings below 0.5: {len(dataset.rating[dataset.rating < 0.5])}'"
   ]
  },
  {
   "cell_type": "code",
   "execution_count": 53,
   "id": "022a676b",
   "metadata": {},
   "outputs": [
    {
     "name": "stdout",
     "output_type": "stream",
     "text": [
      "3732584\n"
     ]
    }
   ],
   "source": [
    "n_min_item = 500\n",
    "n_min_users = n_min_item\n",
    "\n",
    "# while (dataset.title.value_counts().min() < n_min_item) & (dataset.nickname.value_counts().min() < n_min_users):\n",
    "#     print(len(dataset))\n",
    "dataset = dataset[(dataset.nickname.isin(list(dataset.nickname.value_counts()[dataset.nickname.value_counts() >= n_min_users].reset_index().iloc[:,0]))) & \n",
    "                  (dataset.title.isin(list(dataset.title.value_counts()[dataset.title.value_counts() >= n_min_item].reset_index().iloc[:,0]))) & \n",
    "                  (dataset.rating >= 0.5)\n",
    "                 ]\n",
    "print(len(dataset))"
   ]
  },
  {
   "cell_type": "code",
   "execution_count": 22,
   "id": "cd520cf4",
   "metadata": {},
   "outputs": [
    {
     "data": {
      "text/plain": [
       "33"
      ]
     },
     "execution_count": 22,
     "metadata": {},
     "output_type": "execute_result"
    }
   ],
   "source": [
    "dataset.title.value_counts().min()"
   ]
  },
  {
   "cell_type": "code",
   "execution_count": 54,
   "id": "24b3b666",
   "metadata": {},
   "outputs": [
    {
     "data": {
      "text/plain": [
       "Doel            3767\n",
       "leffe dubbel    3479\n",
       "TomVasel        3401\n",
       "Pandorzecza     3385\n",
       "JasonSaastad    3057\n",
       "                ... \n",
       "hornet69          38\n",
       "OldDawg           33\n",
       "mrbrown           33\n",
       "gomattdawg        28\n",
       "sidbits           19\n",
       "Name: nickname, Length: 5923, dtype: int64"
      ]
     },
     "execution_count": 54,
     "metadata": {},
     "output_type": "execute_result"
    }
   ],
   "source": [
    "dataset.nickname.value_counts()#[dataset.nickname.value_counts() >= 20].reset_index().iloc[:,0]"
   ]
  },
  {
   "cell_type": "code",
   "execution_count": 55,
   "id": "ffef6c92",
   "metadata": {},
   "outputs": [
    {
     "data": {
      "text/plain": [
       "Puerto Rico                                   5926\n",
       "Love Letter                                   5643\n",
       "Citadels                                      5607\n",
       "Pandemic                                      5541\n",
       "The Castles of Burgundy                       5479\n",
       "                                              ... \n",
       "Aeon Trespass: Odyssey                          46\n",
       "Settlers of Catan: Gallery Edition              43\n",
       "Cosmic Encounter: 42nd Anniversary Edition      41\n",
       "Dungeon Universalis                             35\n",
       "Unstable Unicorns: NSFW Pack                    33\n",
       "Name: title, Length: 5621, dtype: int64"
      ]
     },
     "execution_count": 55,
     "metadata": {},
     "output_type": "execute_result"
    }
   ],
   "source": [
    "dataset.title.value_counts()#[dataset.title.value_counts() >= 20].reset_index().iloc[:,0]"
   ]
  },
  {
   "cell_type": "code",
   "execution_count": 56,
   "id": "abab7498",
   "metadata": {
    "scrolled": false
   },
   "outputs": [
    {
     "data": {
      "text/html": [
       "<div>\n",
       "<style scoped>\n",
       "    .dataframe tbody tr th:only-of-type {\n",
       "        vertical-align: middle;\n",
       "    }\n",
       "\n",
       "    .dataframe tbody tr th {\n",
       "        vertical-align: top;\n",
       "    }\n",
       "\n",
       "    .dataframe thead th {\n",
       "        text-align: right;\n",
       "    }\n",
       "</style>\n",
       "<table border=\"1\" class=\"dataframe\">\n",
       "  <thead>\n",
       "    <tr style=\"text-align: right;\">\n",
       "      <th></th>\n",
       "      <th>nickname</th>\n",
       "      <th>title</th>\n",
       "      <th>rating</th>\n",
       "    </tr>\n",
       "  </thead>\n",
       "  <tbody>\n",
       "    <tr>\n",
       "      <th>9</th>\n",
       "      <td>asaarto</td>\n",
       "      <td>Anachrony</td>\n",
       "      <td>7.0</td>\n",
       "    </tr>\n",
       "    <tr>\n",
       "      <th>10</th>\n",
       "      <td>Daboom</td>\n",
       "      <td>Anachrony</td>\n",
       "      <td>8.0</td>\n",
       "    </tr>\n",
       "    <tr>\n",
       "      <th>11</th>\n",
       "      <td>bitatmoonl</td>\n",
       "      <td>Anachrony</td>\n",
       "      <td>7.5</td>\n",
       "    </tr>\n",
       "    <tr>\n",
       "      <th>16</th>\n",
       "      <td>benosteen</td>\n",
       "      <td>Anachrony</td>\n",
       "      <td>7.5</td>\n",
       "    </tr>\n",
       "    <tr>\n",
       "      <th>17</th>\n",
       "      <td>dasfungames</td>\n",
       "      <td>Anachrony</td>\n",
       "      <td>4.0</td>\n",
       "    </tr>\n",
       "    <tr>\n",
       "      <th>...</th>\n",
       "      <td>...</td>\n",
       "      <td>...</td>\n",
       "      <td>...</td>\n",
       "    </tr>\n",
       "    <tr>\n",
       "      <th>20184853</th>\n",
       "      <td>loopoocat</td>\n",
       "      <td>Grand Prix</td>\n",
       "      <td>4.0</td>\n",
       "    </tr>\n",
       "    <tr>\n",
       "      <th>20185075</th>\n",
       "      <td>loopoocat</td>\n",
       "      <td>Prosperity</td>\n",
       "      <td>5.0</td>\n",
       "    </tr>\n",
       "    <tr>\n",
       "      <th>20185211</th>\n",
       "      <td>loopoocat</td>\n",
       "      <td>Tally Ho!</td>\n",
       "      <td>1.0</td>\n",
       "    </tr>\n",
       "    <tr>\n",
       "      <th>20185276</th>\n",
       "      <td>loopoocat</td>\n",
       "      <td>Who Goes There?</td>\n",
       "      <td>2.0</td>\n",
       "    </tr>\n",
       "    <tr>\n",
       "      <th>20185978</th>\n",
       "      <td>Semen_kot</td>\n",
       "      <td>Roulette</td>\n",
       "      <td>3.0</td>\n",
       "    </tr>\n",
       "  </tbody>\n",
       "</table>\n",
       "<p>3732584 rows × 3 columns</p>\n",
       "</div>"
      ],
      "text/plain": [
       "             nickname            title  rating\n",
       "9             asaarto        Anachrony     7.0\n",
       "10             Daboom        Anachrony     8.0\n",
       "11         bitatmoonl        Anachrony     7.5\n",
       "16          benosteen        Anachrony     7.5\n",
       "17        dasfungames        Anachrony     4.0\n",
       "...               ...              ...     ...\n",
       "20184853    loopoocat       Grand Prix     4.0\n",
       "20185075    loopoocat       Prosperity     5.0\n",
       "20185211    loopoocat        Tally Ho!     1.0\n",
       "20185276    loopoocat  Who Goes There?     2.0\n",
       "20185978    Semen_kot         Roulette     3.0\n",
       "\n",
       "[3732584 rows x 3 columns]"
      ]
     },
     "execution_count": 56,
     "metadata": {},
     "output_type": "execute_result"
    }
   ],
   "source": [
    "dataset"
   ]
  },
  {
   "cell_type": "code",
   "execution_count": 49,
   "id": "4acc438a",
   "metadata": {},
   "outputs": [
    {
     "data": {
      "text/plain": [
       "(1.4013e-45, 10.0)"
      ]
     },
     "execution_count": 49,
     "metadata": {},
     "output_type": "execute_result"
    }
   ],
   "source": [
    "dataset.rating.min(), dataset.rating.max()"
   ]
  },
  {
   "cell_type": "code",
   "execution_count": 58,
   "id": "a7223b34",
   "metadata": {},
   "outputs": [],
   "source": [
    "reader = Reader(rating_scale=(0.5, 10.0)) # 0.0 10.\n",
    "data = Dataset.load_from_df(dataset, reader)"
   ]
  },
  {
   "cell_type": "code",
   "execution_count": 59,
   "id": "2b35e02c",
   "metadata": {},
   "outputs": [],
   "source": [
    "trainset, testset = train_test_split(data, test_size=0.2, random_state=1)"
   ]
  },
  {
   "cell_type": "markdown",
   "id": "17241619",
   "metadata": {},
   "source": [
    "## User-based"
   ]
  },
  {
   "cell_type": "code",
   "execution_count": 60,
   "id": "7e4cde53",
   "metadata": {},
   "outputs": [
    {
     "name": "stdout",
     "output_type": "stream",
     "text": [
      "Computing the cosine similarity matrix...\n",
      "Done computing similarity matrix.\n"
     ]
    },
    {
     "data": {
      "text/plain": [
       "<surprise.prediction_algorithms.knns.KNNWithMeans at 0x2bd169e40>"
      ]
     },
     "execution_count": 60,
     "metadata": {},
     "output_type": "execute_result"
    }
   ],
   "source": [
    "algo = KNNWithMeans(k=50, sim_options={\n",
    "    'name': 'cosine',\n",
    "    'user_based': True  # compute  similarities between users\n",
    "})\n",
    "algo.fit(trainset)"
   ]
  },
  {
   "cell_type": "code",
   "execution_count": 61,
   "id": "b2379407",
   "metadata": {},
   "outputs": [
    {
     "name": "stdout",
     "output_type": "stream",
     "text": [
      "RMSE: 1.2012\n"
     ]
    },
    {
     "data": {
      "text/plain": [
       "1.201171255054754"
      ]
     },
     "execution_count": 61,
     "metadata": {},
     "output_type": "execute_result"
    }
   ],
   "source": [
    "test_pred = algo.test(testset)\n",
    "accuracy.rmse(test_pred, verbose=True)"
   ]
  },
  {
   "cell_type": "markdown",
   "id": "7d524d67",
   "metadata": {},
   "source": [
    "## Item-based"
   ]
  },
  {
   "cell_type": "code",
   "execution_count": 62,
   "id": "6513014c",
   "metadata": {},
   "outputs": [
    {
     "name": "stdout",
     "output_type": "stream",
     "text": [
      "Computing the cosine similarity matrix...\n",
      "Done computing similarity matrix.\n"
     ]
    },
    {
     "data": {
      "text/plain": [
       "<surprise.prediction_algorithms.knns.KNNWithMeans at 0x2e0439960>"
      ]
     },
     "execution_count": 62,
     "metadata": {},
     "output_type": "execute_result"
    }
   ],
   "source": [
    "algo = KNNWithMeans(k=50, sim_options={\n",
    "    'name': 'cosine',\n",
    "    'user_based': False  # compute similarities between items\n",
    "})\n",
    "algo.fit(trainset)"
   ]
  },
  {
   "cell_type": "code",
   "execution_count": 63,
   "id": "7a201ca8",
   "metadata": {},
   "outputs": [
    {
     "name": "stdout",
     "output_type": "stream",
     "text": [
      "RMSE: 1.1850\n"
     ]
    },
    {
     "data": {
      "text/plain": [
       "1.1849620863381591"
      ]
     },
     "execution_count": 63,
     "metadata": {},
     "output_type": "execute_result"
    }
   ],
   "source": [
    "test_pred = algo.test(testset)\n",
    "accuracy.rmse(test_pred, verbose=True)"
   ]
  },
  {
   "cell_type": "markdown",
   "id": "592afe87",
   "metadata": {},
   "source": [
    "## Recommendations"
   ]
  },
  {
   "cell_type": "code",
   "execution_count": 109,
   "id": "34eebc8a",
   "metadata": {},
   "outputs": [],
   "source": [
    "def generate_recommendation(user, model, dataset, thresh=7, amount=10):\n",
    "    all_titles = list(dataset['title'].values)\n",
    "    users_played_titles = dataset[dataset['nickname'] == user]['nickname']\n",
    "    titles = np.array(list(set(all_titles) - set(users_played_titles)))\n",
    "\n",
    "    np.random.shuffle(titles)\n",
    "    \n",
    "    rec_list = []\n",
    "    for title in titles:\n",
    "        review_prediction = model.predict(uid=user, iid=title)\n",
    "        rating = review_prediction.est\n",
    "\n",
    "        if rating >= thresh:\n",
    "            rec_list.append((title, round(rating, 2)))\n",
    "            \n",
    "            if len(rec_list) >= amount:\n",
    "                return rec_list"
   ]
  },
  {
   "cell_type": "code",
   "execution_count": 108,
   "id": "6e6c4d01",
   "metadata": {},
   "outputs": [
    {
     "data": {
      "text/plain": [
       "'BeerAndBoard'"
      ]
     },
     "execution_count": 108,
     "metadata": {},
     "output_type": "execute_result"
    }
   ],
   "source": [
    "dataset.nickname.iloc[11233]"
   ]
  },
  {
   "cell_type": "code",
   "execution_count": 110,
   "id": "4d43a9b4",
   "metadata": {},
   "outputs": [
    {
     "data": {
      "text/plain": [
       "[('Pax Pamir', 7.48),\n",
       " ('Canal Mania', 7.17),\n",
       " ('2nd Fleet: Modern Naval Combat in the North Atlantic', 7.45),\n",
       " ('The El Grande Expansions', 7.46),\n",
       " ('Mansions of Madness: Second Edition – Horrific Journeys: Expansion', 8.95),\n",
       " ('BattleLore: Goblin Skirmishers Specialist Pack', 7.48),\n",
       " ('Age of Empires III: The Age of Discovery', 7.1),\n",
       " ('Scythe: The Wind Gambit', 7.97),\n",
       " ('Race for the Galaxy: Alien Artifacts', 7.6),\n",
       " ('Solomon Kane', 7.85)]"
      ]
     },
     "execution_count": 110,
     "metadata": {},
     "output_type": "execute_result"
    }
   ],
   "source": [
    "generate_recommendation('BeerAndBoard', algo, dataset)"
   ]
  }
 ],
 "metadata": {
  "kernelspec": {
   "display_name": "Python 3 (ipykernel)",
   "language": "python",
   "name": "python3"
  },
  "language_info": {
   "codemirror_mode": {
    "name": "ipython",
    "version": 3
   },
   "file_extension": ".py",
   "mimetype": "text/x-python",
   "name": "python",
   "nbconvert_exporter": "python",
   "pygments_lexer": "ipython3",
   "version": "3.10.6"
  }
 },
 "nbformat": 4,
 "nbformat_minor": 5
}
