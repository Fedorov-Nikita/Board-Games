{
 "cells": [
  {
   "cell_type": "markdown",
   "id": "5a8ef828",
   "metadata": {},
   "source": [
    "## Import libs"
   ]
  },
  {
   "cell_type": "code",
   "execution_count": 1,
   "id": "2f058215",
   "metadata": {},
   "outputs": [],
   "source": [
    "import pandas as pd\n",
    "import numpy as np"
   ]
  },
  {
   "cell_type": "markdown",
   "id": "5445e408",
   "metadata": {},
   "source": [
    "## Import data"
   ]
  },
  {
   "cell_type": "code",
   "execution_count": 8,
   "id": "2be32711",
   "metadata": {},
   "outputs": [],
   "source": [
    "bg = pd.read_feather('../Board-Games/data/full/bgg_boardgames.feather')\n",
    "# ratings = pd.read_feather('./data/full/bgg_ratings_full.feather')\n",
    "bg.boardgame_id = bg.boardgame_id.astype('int')\n",
    "# bg.minplayers = bg.minplayers.astype('int')\n",
    "# bg.maxplayers = bg.maxplayers.astype('int')\n",
    "# bg.minplaytime = bg.minplaytime.astype('int')\n",
    "# bg.maxplaytime = bg.maxplaytime.astype('int')\n",
    "# ratings = ratings[['nickname', 'boardgame_id', 'rating']].merge(bg[['boardgame_id', 'title']], \n",
    "#                                                                 on='boardgame_id', how='inner')[['nickname', \n",
    "#                                                                                        'title', 'rating']]"
   ]
  },
  {
   "cell_type": "markdown",
   "id": "e6e72b80",
   "metadata": {},
   "source": [
    "## Logic"
   ]
  },
  {
   "cell_type": "markdown",
   "id": "4789eb89",
   "metadata": {},
   "source": [
    "To begin with, we will implement the simplest version of the recommendations for interacting with the chatbot, both at a cold-start and for users with an existing history.\n",
    "\n",
    "In either case, it's worth getting input for making recommendations:\n",
    "- Number of players:\n",
    "    - solo\n",
    "    - for two\n",
    "    - 3-4\n",
    "    - 5+\n",
    "\n",
    "- Game duration:\n",
    "    - up to 30 minutes\n",
    "    - 30 - 90 minutes\n",
    "    - 1.5 - 3 hours\n",
    "    - more than 3 hours\n",
    "    \n",
    "- How long ago the game was released:\n",
    "    - up to 3 years ago (newest)\n",
    "    - 3-7 years ago (recent)\n",
    "    - older than 7 years ago (older)\n",
    "    - before 2007 (oldschool games)\n",
    "    \n",
    "- Preferred genres (?):\n",
    "    - ...\n",
    "    - ...\n",
    "    \n",
    "And later with these filters we will recommend games with the highest rank on BGG"
   ]
  }
 ],
 "metadata": {
  "kernelspec": {
   "display_name": "Python 3 (ipykernel)",
   "language": "python",
   "name": "python3"
  },
  "language_info": {
   "codemirror_mode": {
    "name": "ipython",
    "version": 3
   },
   "file_extension": ".py",
   "mimetype": "text/x-python",
   "name": "python",
   "nbconvert_exporter": "python",
   "pygments_lexer": "ipython3",
   "version": "3.10.6"
  }
 },
 "nbformat": 4,
 "nbformat_minor": 5
}
