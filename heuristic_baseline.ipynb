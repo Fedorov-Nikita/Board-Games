{
 "cells": [
  {
   "cell_type": "markdown",
   "id": "62e2db69",
   "metadata": {},
   "source": [
    "## Import libs"
   ]
  },
  {
   "cell_type": "code",
   "execution_count": 79,
   "id": "d49eda2a",
   "metadata": {},
   "outputs": [],
   "source": [
    "from typing import Tuple, List, Iterable\n",
    "import time\n",
    "\n",
    "import pandas as pd\n",
    "import numpy as np\n",
    "import sqlite3\n",
    "\n",
    "PATH_TO_DB = ''"
   ]
  },
  {
   "cell_type": "markdown",
   "id": "40d6fa3f",
   "metadata": {},
   "source": [
    "## Import data"
   ]
  },
  {
   "cell_type": "code",
   "execution_count": 8,
   "id": "0fe0c48d",
   "metadata": {},
   "outputs": [],
   "source": [
    "bg = pd.read_feather('../Board-Games/data/full/bgg_boardgames.feather')\n",
    "\n",
    "bg.boardgame_id = bg.boardgame_id.astype('int')"
   ]
  },
  {
   "cell_type": "markdown",
   "id": "29c660b4",
   "metadata": {},
   "source": [
    "## Logic"
   ]
  },
  {
   "cell_type": "markdown",
   "id": "8f5bf7d8",
   "metadata": {},
   "source": [
    "To begin with, we will implement the simplest version of the recommendations for interacting with the chatbot, both at a cold-start and for users with an existing history.\n",
    "\n",
    "In either case, it's worth getting input for making recommendations:\n",
    "- Number of players:\n",
    "    - solo\n",
    "    - for two\n",
    "    - 3-4\n",
    "    - 5+\n",
    "\n",
    "- Game duration:\n",
    "    - up to 30 minutes\n",
    "    - 30 - 90 minutes\n",
    "    - 1.5 - 3 hours\n",
    "    - more than 3 hours\n",
    "    \n",
    "- How long ago the game was released:\n",
    "    - up to 3 years ago (newest)\n",
    "    - 3-7 years ago (recent)\n",
    "    - older than 7 years ago (older)\n",
    "    - before 2007 (oldschool games)\n",
    "    \n",
    "- Preferred genres (?):\n",
    "    - ...\n",
    "    - ...\n",
    "    \n",
    "And later with these filters we will recommend games with the highest rank on BGG"
   ]
  },
  {
   "cell_type": "markdown",
   "id": "92ae35ab",
   "metadata": {},
   "source": [
    "## Realization"
   ]
  },
  {
   "cell_type": "code",
   "execution_count": 11,
   "id": "dbe6ee1c",
   "metadata": {},
   "outputs": [],
   "source": [
    "# Relevant values\n",
    "n_players_v = ['solo', 'two', '3-4', '5+']\n",
    "duration_v = ['up to 30m', '30-90m', '1.5 - 3h', '3h+']\n",
    "game_age_v = ['newest', 'recent', 'older', 'oldschool']"
   ]
  },
  {
   "cell_type": "code",
   "execution_count": 84,
   "id": "95de60f2",
   "metadata": {},
   "outputs": [
    {
     "name": "stdout",
     "output_type": "stream",
     "text": [
      "\n",
      "        SELECT b.boardgame_id, b.title\n",
      "        FROM   (SELECT boardgame_id, title\n",
      "                FROM boardgames\n",
      "                WHERE ((minplayers <= 3) & (maxplayers >= 4)) & ((maxplaytime >= 90) & (maxplaytime <= 180)) & ((year_published <= 2020) & (year_published > 2016))) b\n",
      "        JOIN ranks r ON b.boardgame_id = r.boardgame_id\n",
      "        ORDER BY r.bgg_rank ASC\n",
      "        LIMIT 10\n",
      "        \n"
     ]
    }
   ],
   "source": [
    "def query_to_db(query: str, PATH_TO_DB: str): # -> Iterable[Tuple[...]]\n",
    "    '''\n",
    "    Retrieve data from the database on request\n",
    "    \n",
    "    ----------\n",
    "    Parameters:\n",
    "    query: str\n",
    "        Query for getting data from database\n",
    "        \n",
    "    PATH_TO_DB: str\n",
    "        Path to database\n",
    "    ----------\n",
    "    Return:\n",
    "        List of tuples with data from database\n",
    "    '''\n",
    "    # connect to the database\n",
    "    conn = sqlite3.connect(PATH_TO_DB)\n",
    "\n",
    "    # create a cursor object\n",
    "    cursor = conn.cursor()\n",
    "    \n",
    "    # get data\n",
    "    cursor.execute(query)\n",
    "    \n",
    "    # collect data\n",
    "    data = cursor.fetchall()\n",
    "    \n",
    "    # close the connection\n",
    "    conn.close()\n",
    "\n",
    "    return data\n",
    "\n",
    "\n",
    "\n",
    "def huristic_recommendation(n_players: str, duration: str, game_age: str, n_recommend=10): # -> Iterable[Tuple[int, str]]\n",
    "    '''\n",
    "    Get recommendations based on heuristic: games with the highest rank on BGG with used terms.\n",
    "    \n",
    "    ----------\n",
    "    Parameters:\n",
    "    n_players: str\n",
    "        Number of players. Must be one of this values: 'solo', 'two', '3-4', '5+'.\n",
    "    \n",
    "    duration: str\n",
    "        Duration of game. Must be one of this values: 'up to 30m', '30-90m', '1.5 - 3h', '3h+'.\n",
    "    \n",
    "    game_age: str\n",
    "        How old game was published. Must be one of this values: 'newest', 'recent', 'older', 'oldschool'\n",
    "    \n",
    "    n_recommend: int\n",
    "        Number of games for recomendation. Must be more positive.\n",
    "    \n",
    "    PATH_TO_DB: str\n",
    "        Path to database\n",
    "    ----------\n",
    "    Return:\n",
    "        List of tuples with data from database\n",
    "    '''\n",
    "    assert n_players in n_players_v, 'Invalid number of players'\n",
    "    assert duration in duration_v, 'Invalid game duration'\n",
    "    assert game_age in game_age_v, 'Invalid age of the game'\n",
    "    assert type(n_recommend) == int, 'Number of recommends is not integer'\n",
    "    assert n_recommend > 0, 'Number of recommends is not positive integer'\n",
    "    \n",
    "    if n_players == 'solo':\n",
    "        q_1 = '(minplayers = 1)'\n",
    "    elif n_players == 'two':\n",
    "        q_1 = '((minplayers <= 2) & (maxplayers >= 2))'\n",
    "    elif n_players == '3-4':\n",
    "        q_1 = '((minplayers <= 3) & (maxplayers >= 4))'\n",
    "    elif n_players == '5+':\n",
    "        q_1 = '(maxplayers >+ 5)'\n",
    "    assert type(q_1) == str\n",
    "    \n",
    "    if duration == 'up to 30m':\n",
    "        q_2 = '(maxplaytime <= 30)'\n",
    "    elif duration == '30-90m':\n",
    "        q_2 = '((maxplaytime >= 30) & (maxplaytime <= 90))'\n",
    "    elif duration == '1.5 - 3h':\n",
    "        q_2 = '((maxplaytime >= 90) & (maxplaytime <= 180))'\n",
    "    elif duration == '3h+':\n",
    "        q_2 = '(maxplaytime >= 180)'\n",
    "    assert type(q_2) == str\n",
    "    \n",
    "    if game_age == 'newest': # up to 3 years ago\n",
    "        q_3 = f'(year_published > {time.localtime().tm_year - 3})'\n",
    "    elif game_age == 'recent': # 3-7 years ago\n",
    "        q_3 = f'((year_published <= {time.localtime().tm_year - 3}) & (year_published > {time.localtime().tm_year - 7}))'\n",
    "    elif game_age == 'older': # older than 7 years ago\n",
    "        q_3 = f'((year_published <= {time.localtime().tm_year - 7}) & (year_published > 2007))'\n",
    "    elif game_age == 'oldschool': # before 2007\n",
    "        q_3 = f'(year_published <= 2007)'\n",
    "    assert type(q_3) == str\n",
    "    \n",
    "    where_query = f'WHERE {q_1} & {q_2} & {q_3}'\n",
    "    limit_query = f'LIMIT {n_recommend}'\n",
    "    \n",
    "    main_query = f'''\n",
    "        SELECT b.boardgame_id, b.title\n",
    "        FROM   (SELECT boardgame_id, title\n",
    "                FROM boardgames\n",
    "                {where_query}) b\n",
    "        JOIN ranks r ON b.boardgame_id = r.boardgame_id\n",
    "        ORDER BY r.bgg_rank ASC\n",
    "        {limit_query}\n",
    "        '''\n",
    "    \n",
    "#     return query_to_db(main_query, PATH_TO_DB=PATH_TO_DB)\n",
    "    return main_query \n",
    "\n",
    "print(huristic_recommendation(n_players='3-4', duration='1.5 - 3h', game_age='recent', n_recommend=10))\n"
   ]
  },
  {
   "cell_type": "code",
   "execution_count": 74,
   "id": "d05c55ed",
   "metadata": {},
   "outputs": [
    {
     "data": {
      "text/plain": [
       "61703    Board Game Rank|1379||Family Game Rank|387\n",
       "Name: ranks, dtype: object"
      ]
     },
     "execution_count": 74,
     "metadata": {},
     "output_type": "execute_result"
    }
   ],
   "source": [
    "bg[bg.boardgame_id == 268620].ranks"
   ]
  },
  {
   "cell_type": "code",
   "execution_count": null,
   "id": "e6cf1e81",
   "metadata": {},
   "outputs": [],
   "source": []
  }
 ],
 "metadata": {
  "kernelspec": {
   "display_name": "Python 3 (ipykernel)",
   "language": "python",
   "name": "python3"
  },
  "language_info": {
   "codemirror_mode": {
    "name": "ipython",
    "version": 3
   },
   "file_extension": ".py",
   "mimetype": "text/x-python",
   "name": "python",
   "nbconvert_exporter": "python",
   "pygments_lexer": "ipython3",
   "version": "3.10.6"
  }
 },
 "nbformat": 4,
 "nbformat_minor": 5
}
